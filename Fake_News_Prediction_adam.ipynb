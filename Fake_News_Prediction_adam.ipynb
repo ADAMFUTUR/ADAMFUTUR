{
  "cells": [
    {
      "cell_type": "markdown",
      "metadata": {
        "id": "view-in-github",
        "colab_type": "text"
      },
      "source": [
        "<a href=\"https://colab.research.google.com/github/ADAMFUTUR/ADAMFUTUR/blob/main/Fake_News_Prediction_adam.ipynb\" target=\"_parent\"><img src=\"https://colab.research.google.com/assets/colab-badge.svg\" alt=\"Open In Colab\"/></a>"
      ]
    },
    {
      "cell_type": "code",
      "source": [
        "!pip install -q kaggle"
      ],
      "metadata": {
        "id": "o7Ox7Btt8EZw"
      },
      "execution_count": 11,
      "outputs": []
    },
    {
      "cell_type": "code",
      "source": [
        "from google.colab import files\n",
        "\n",
        "files.upload()"
      ],
      "metadata": {
        "colab": {
          "base_uri": "https://localhost:8080/",
          "height": 56
        },
        "id": "_l2PshoqNI4S",
        "outputId": "c044540c-1f4e-4fd6-9014-158e660a7b66"
      },
      "execution_count": 12,
      "outputs": [
        {
          "output_type": "display_data",
          "data": {
            "text/plain": [
              "<IPython.core.display.HTML object>"
            ],
            "text/html": [
              "\n",
              "     <input type=\"file\" id=\"files-65e166d5-0de9-42ec-818d-5696213ecf3d\" name=\"files[]\" multiple disabled\n",
              "        style=\"border:none\" />\n",
              "     <output id=\"result-65e166d5-0de9-42ec-818d-5696213ecf3d\">\n",
              "      Upload widget is only available when the cell has been executed in the\n",
              "      current browser session. Please rerun this cell to enable.\n",
              "      </output>\n",
              "      <script>// Copyright 2017 Google LLC\n",
              "//\n",
              "// Licensed under the Apache License, Version 2.0 (the \"License\");\n",
              "// you may not use this file except in compliance with the License.\n",
              "// You may obtain a copy of the License at\n",
              "//\n",
              "//      http://www.apache.org/licenses/LICENSE-2.0\n",
              "//\n",
              "// Unless required by applicable law or agreed to in writing, software\n",
              "// distributed under the License is distributed on an \"AS IS\" BASIS,\n",
              "// WITHOUT WARRANTIES OR CONDITIONS OF ANY KIND, either express or implied.\n",
              "// See the License for the specific language governing permissions and\n",
              "// limitations under the License.\n",
              "\n",
              "/**\n",
              " * @fileoverview Helpers for google.colab Python module.\n",
              " */\n",
              "(function(scope) {\n",
              "function span(text, styleAttributes = {}) {\n",
              "  const element = document.createElement('span');\n",
              "  element.textContent = text;\n",
              "  for (const key of Object.keys(styleAttributes)) {\n",
              "    element.style[key] = styleAttributes[key];\n",
              "  }\n",
              "  return element;\n",
              "}\n",
              "\n",
              "// Max number of bytes which will be uploaded at a time.\n",
              "const MAX_PAYLOAD_SIZE = 100 * 1024;\n",
              "\n",
              "function _uploadFiles(inputId, outputId) {\n",
              "  const steps = uploadFilesStep(inputId, outputId);\n",
              "  const outputElement = document.getElementById(outputId);\n",
              "  // Cache steps on the outputElement to make it available for the next call\n",
              "  // to uploadFilesContinue from Python.\n",
              "  outputElement.steps = steps;\n",
              "\n",
              "  return _uploadFilesContinue(outputId);\n",
              "}\n",
              "\n",
              "// This is roughly an async generator (not supported in the browser yet),\n",
              "// where there are multiple asynchronous steps and the Python side is going\n",
              "// to poll for completion of each step.\n",
              "// This uses a Promise to block the python side on completion of each step,\n",
              "// then passes the result of the previous step as the input to the next step.\n",
              "function _uploadFilesContinue(outputId) {\n",
              "  const outputElement = document.getElementById(outputId);\n",
              "  const steps = outputElement.steps;\n",
              "\n",
              "  const next = steps.next(outputElement.lastPromiseValue);\n",
              "  return Promise.resolve(next.value.promise).then((value) => {\n",
              "    // Cache the last promise value to make it available to the next\n",
              "    // step of the generator.\n",
              "    outputElement.lastPromiseValue = value;\n",
              "    return next.value.response;\n",
              "  });\n",
              "}\n",
              "\n",
              "/**\n",
              " * Generator function which is called between each async step of the upload\n",
              " * process.\n",
              " * @param {string} inputId Element ID of the input file picker element.\n",
              " * @param {string} outputId Element ID of the output display.\n",
              " * @return {!Iterable<!Object>} Iterable of next steps.\n",
              " */\n",
              "function* uploadFilesStep(inputId, outputId) {\n",
              "  const inputElement = document.getElementById(inputId);\n",
              "  inputElement.disabled = false;\n",
              "\n",
              "  const outputElement = document.getElementById(outputId);\n",
              "  outputElement.innerHTML = '';\n",
              "\n",
              "  const pickedPromise = new Promise((resolve) => {\n",
              "    inputElement.addEventListener('change', (e) => {\n",
              "      resolve(e.target.files);\n",
              "    });\n",
              "  });\n",
              "\n",
              "  const cancel = document.createElement('button');\n",
              "  inputElement.parentElement.appendChild(cancel);\n",
              "  cancel.textContent = 'Cancel upload';\n",
              "  const cancelPromise = new Promise((resolve) => {\n",
              "    cancel.onclick = () => {\n",
              "      resolve(null);\n",
              "    };\n",
              "  });\n",
              "\n",
              "  // Wait for the user to pick the files.\n",
              "  const files = yield {\n",
              "    promise: Promise.race([pickedPromise, cancelPromise]),\n",
              "    response: {\n",
              "      action: 'starting',\n",
              "    }\n",
              "  };\n",
              "\n",
              "  cancel.remove();\n",
              "\n",
              "  // Disable the input element since further picks are not allowed.\n",
              "  inputElement.disabled = true;\n",
              "\n",
              "  if (!files) {\n",
              "    return {\n",
              "      response: {\n",
              "        action: 'complete',\n",
              "      }\n",
              "    };\n",
              "  }\n",
              "\n",
              "  for (const file of files) {\n",
              "    const li = document.createElement('li');\n",
              "    li.append(span(file.name, {fontWeight: 'bold'}));\n",
              "    li.append(span(\n",
              "        `(${file.type || 'n/a'}) - ${file.size} bytes, ` +\n",
              "        `last modified: ${\n",
              "            file.lastModifiedDate ? file.lastModifiedDate.toLocaleDateString() :\n",
              "                                    'n/a'} - `));\n",
              "    const percent = span('0% done');\n",
              "    li.appendChild(percent);\n",
              "\n",
              "    outputElement.appendChild(li);\n",
              "\n",
              "    const fileDataPromise = new Promise((resolve) => {\n",
              "      const reader = new FileReader();\n",
              "      reader.onload = (e) => {\n",
              "        resolve(e.target.result);\n",
              "      };\n",
              "      reader.readAsArrayBuffer(file);\n",
              "    });\n",
              "    // Wait for the data to be ready.\n",
              "    let fileData = yield {\n",
              "      promise: fileDataPromise,\n",
              "      response: {\n",
              "        action: 'continue',\n",
              "      }\n",
              "    };\n",
              "\n",
              "    // Use a chunked sending to avoid message size limits. See b/62115660.\n",
              "    let position = 0;\n",
              "    do {\n",
              "      const length = Math.min(fileData.byteLength - position, MAX_PAYLOAD_SIZE);\n",
              "      const chunk = new Uint8Array(fileData, position, length);\n",
              "      position += length;\n",
              "\n",
              "      const base64 = btoa(String.fromCharCode.apply(null, chunk));\n",
              "      yield {\n",
              "        response: {\n",
              "          action: 'append',\n",
              "          file: file.name,\n",
              "          data: base64,\n",
              "        },\n",
              "      };\n",
              "\n",
              "      let percentDone = fileData.byteLength === 0 ?\n",
              "          100 :\n",
              "          Math.round((position / fileData.byteLength) * 100);\n",
              "      percent.textContent = `${percentDone}% done`;\n",
              "\n",
              "    } while (position < fileData.byteLength);\n",
              "  }\n",
              "\n",
              "  // All done.\n",
              "  yield {\n",
              "    response: {\n",
              "      action: 'complete',\n",
              "    }\n",
              "  };\n",
              "}\n",
              "\n",
              "scope.google = scope.google || {};\n",
              "scope.google.colab = scope.google.colab || {};\n",
              "scope.google.colab._files = {\n",
              "  _uploadFiles,\n",
              "  _uploadFilesContinue,\n",
              "};\n",
              "})(self);\n",
              "</script> "
            ]
          },
          "metadata": {}
        },
        {
          "output_type": "execute_result",
          "data": {
            "text/plain": [
              "{}"
            ]
          },
          "metadata": {},
          "execution_count": 12
        }
      ]
    },
    {
      "cell_type": "code",
      "source": [
        "!mkdir -p ~/.kaggle\n",
        "!cp kaggle.json ~/.kaggle/"
      ],
      "metadata": {
        "id": "6BRJ_3Wi8IbI"
      },
      "execution_count": 13,
      "outputs": []
    },
    {
      "cell_type": "code",
      "source": [
        "!kaggle datasets download adamimloul/news-articles-scv"
      ],
      "metadata": {
        "colab": {
          "base_uri": "https://localhost:8080/"
        },
        "id": "EHlVkgwR8LIv",
        "outputId": "038b89a5-8391-4b93-f319-f7a947446958"
      },
      "execution_count": 14,
      "outputs": [
        {
          "output_type": "stream",
          "name": "stdout",
          "text": [
            "Warning: Your Kaggle API key is readable by other users on this system! To fix this, you can run 'chmod 600 /root/.kaggle/kaggle.json'\n",
            "Dataset URL: https://www.kaggle.com/datasets/adamimloul/news-articles-scv\n",
            "License(s): unknown\n",
            "Downloading news-articles-scv.zip to /content\n",
            "  0% 0.00/2.97M [00:00<?, ?B/s]\n",
            "100% 2.97M/2.97M [00:00<00:00, 896MB/s]\n"
          ]
        }
      ]
    },
    {
      "cell_type": "code",
      "source": [
        "!ls /content"
      ],
      "metadata": {
        "colab": {
          "base_uri": "https://localhost:8080/"
        },
        "id": "zsIrfnNQ8QFt",
        "outputId": "20cc0247-69ba-4aa8-fa27-3f86e6432212"
      },
      "execution_count": 15,
      "outputs": [
        {
          "output_type": "stream",
          "name": "stdout",
          "text": [
            "kaggle.json  news-articles-scv.zip  sample_data\n"
          ]
        }
      ]
    },
    {
      "cell_type": "code",
      "source": [
        "!unzip /content/news-articles-scv.zip"
      ],
      "metadata": {
        "colab": {
          "base_uri": "https://localhost:8080/"
        },
        "id": "orCC1vyc8aPN",
        "outputId": "1ad7d5ac-fcbb-46b7-b628-964313454f2c"
      },
      "execution_count": 16,
      "outputs": [
        {
          "output_type": "stream",
          "name": "stdout",
          "text": [
            "Archive:  /content/news-articles-scv.zip\n",
            "  inflating: news_articles.csv       \n"
          ]
        }
      ]
    },
    {
      "cell_type": "code",
      "source": [
        "import pandas as pd"
      ],
      "metadata": {
        "id": "rdEi-eHV8w-L"
      },
      "execution_count": 17,
      "outputs": []
    },
    {
      "cell_type": "code",
      "source": [
        "df = pd.read_csv('/content/news_articles.csv')\n"
      ],
      "metadata": {
        "id": "NkHBOWNq80hE"
      },
      "execution_count": 18,
      "outputs": []
    },
    {
      "cell_type": "code",
      "source": [
        "df.head()"
      ],
      "metadata": {
        "colab": {
          "base_uri": "https://localhost:8080/",
          "height": 660
        },
        "id": "vfNXmogx88sO",
        "outputId": "75170249-bca8-4d76-a682-48e6b629d199"
      },
      "execution_count": 19,
      "outputs": [
        {
          "output_type": "execute_result",
          "data": {
            "text/plain": [
              "                 author                      published  \\\n",
              "0     Barracuda Brigade  2016-10-26T21:41:00.000+03:00   \n",
              "1  reasoning with facts  2016-10-29T08:47:11.259+03:00   \n",
              "2     Barracuda Brigade  2016-10-31T01:41:49.479+02:00   \n",
              "3                Fed Up  2016-11-01T05:22:00.000+02:00   \n",
              "4                Fed Up  2016-11-01T21:56:00.000+02:00   \n",
              "\n",
              "                                               title  \\\n",
              "0  muslims busted they stole millions in govt ben...   \n",
              "1  re why did attorney general loretta lynch plea...   \n",
              "2  breaking weiner cooperating with fbi on hillar...   \n",
              "3  pin drop speech by father of daughter kidnappe...   \n",
              "4  fantastic trumps  point plan to reform healthc...   \n",
              "\n",
              "                                                text language  \\\n",
              "0  print they should pay all the back all the mon...  english   \n",
              "1  why did attorney general loretta lynch plead t...  english   \n",
              "2  red state  \\nfox news sunday reported this mor...  english   \n",
              "3  email kayla mueller was a prisoner and torture...  english   \n",
              "4  email healthcare reform to make america great ...  english   \n",
              "\n",
              "              site_url                                       main_img_url  \\\n",
              "0  100percentfedup.com  http://bb4sp.com/wp-content/uploads/2016/10/Fu...   \n",
              "1  100percentfedup.com  http://bb4sp.com/wp-content/uploads/2016/10/Fu...   \n",
              "2  100percentfedup.com  http://bb4sp.com/wp-content/uploads/2016/10/Fu...   \n",
              "3  100percentfedup.com  http://100percentfedup.com/wp-content/uploads/...   \n",
              "4  100percentfedup.com  http://100percentfedup.com/wp-content/uploads/...   \n",
              "\n",
              "   type label                            title_without_stopwords  \\\n",
              "0  bias  Real        muslims busted stole millions govt benefits   \n",
              "1  bias  Real         attorney general loretta lynch plead fifth   \n",
              "2  bias  Real  breaking weiner cooperating fbi hillary email ...   \n",
              "3  bias  Real  pin drop speech father daughter kidnapped kill...   \n",
              "4  bias  Real  fantastic trumps point plan reform healthcare ...   \n",
              "\n",
              "                              text_without_stopwords  hasImage  \n",
              "0  print pay back money plus interest entire fami...       1.0  \n",
              "1  attorney general loretta lynch plead fifth bar...       1.0  \n",
              "2  red state fox news sunday reported morning ant...       1.0  \n",
              "3  email kayla mueller prisoner tortured isis cha...       1.0  \n",
              "4  email healthcare reform make america great sin...       1.0  "
            ],
            "text/html": [
              "\n",
              "  <div id=\"df-4e741966-9bac-4648-a404-f729863f6e0c\" class=\"colab-df-container\">\n",
              "    <div>\n",
              "<style scoped>\n",
              "    .dataframe tbody tr th:only-of-type {\n",
              "        vertical-align: middle;\n",
              "    }\n",
              "\n",
              "    .dataframe tbody tr th {\n",
              "        vertical-align: top;\n",
              "    }\n",
              "\n",
              "    .dataframe thead th {\n",
              "        text-align: right;\n",
              "    }\n",
              "</style>\n",
              "<table border=\"1\" class=\"dataframe\">\n",
              "  <thead>\n",
              "    <tr style=\"text-align: right;\">\n",
              "      <th></th>\n",
              "      <th>author</th>\n",
              "      <th>published</th>\n",
              "      <th>title</th>\n",
              "      <th>text</th>\n",
              "      <th>language</th>\n",
              "      <th>site_url</th>\n",
              "      <th>main_img_url</th>\n",
              "      <th>type</th>\n",
              "      <th>label</th>\n",
              "      <th>title_without_stopwords</th>\n",
              "      <th>text_without_stopwords</th>\n",
              "      <th>hasImage</th>\n",
              "    </tr>\n",
              "  </thead>\n",
              "  <tbody>\n",
              "    <tr>\n",
              "      <th>0</th>\n",
              "      <td>Barracuda Brigade</td>\n",
              "      <td>2016-10-26T21:41:00.000+03:00</td>\n",
              "      <td>muslims busted they stole millions in govt ben...</td>\n",
              "      <td>print they should pay all the back all the mon...</td>\n",
              "      <td>english</td>\n",
              "      <td>100percentfedup.com</td>\n",
              "      <td>http://bb4sp.com/wp-content/uploads/2016/10/Fu...</td>\n",
              "      <td>bias</td>\n",
              "      <td>Real</td>\n",
              "      <td>muslims busted stole millions govt benefits</td>\n",
              "      <td>print pay back money plus interest entire fami...</td>\n",
              "      <td>1.0</td>\n",
              "    </tr>\n",
              "    <tr>\n",
              "      <th>1</th>\n",
              "      <td>reasoning with facts</td>\n",
              "      <td>2016-10-29T08:47:11.259+03:00</td>\n",
              "      <td>re why did attorney general loretta lynch plea...</td>\n",
              "      <td>why did attorney general loretta lynch plead t...</td>\n",
              "      <td>english</td>\n",
              "      <td>100percentfedup.com</td>\n",
              "      <td>http://bb4sp.com/wp-content/uploads/2016/10/Fu...</td>\n",
              "      <td>bias</td>\n",
              "      <td>Real</td>\n",
              "      <td>attorney general loretta lynch plead fifth</td>\n",
              "      <td>attorney general loretta lynch plead fifth bar...</td>\n",
              "      <td>1.0</td>\n",
              "    </tr>\n",
              "    <tr>\n",
              "      <th>2</th>\n",
              "      <td>Barracuda Brigade</td>\n",
              "      <td>2016-10-31T01:41:49.479+02:00</td>\n",
              "      <td>breaking weiner cooperating with fbi on hillar...</td>\n",
              "      <td>red state  \\nfox news sunday reported this mor...</td>\n",
              "      <td>english</td>\n",
              "      <td>100percentfedup.com</td>\n",
              "      <td>http://bb4sp.com/wp-content/uploads/2016/10/Fu...</td>\n",
              "      <td>bias</td>\n",
              "      <td>Real</td>\n",
              "      <td>breaking weiner cooperating fbi hillary email ...</td>\n",
              "      <td>red state fox news sunday reported morning ant...</td>\n",
              "      <td>1.0</td>\n",
              "    </tr>\n",
              "    <tr>\n",
              "      <th>3</th>\n",
              "      <td>Fed Up</td>\n",
              "      <td>2016-11-01T05:22:00.000+02:00</td>\n",
              "      <td>pin drop speech by father of daughter kidnappe...</td>\n",
              "      <td>email kayla mueller was a prisoner and torture...</td>\n",
              "      <td>english</td>\n",
              "      <td>100percentfedup.com</td>\n",
              "      <td>http://100percentfedup.com/wp-content/uploads/...</td>\n",
              "      <td>bias</td>\n",
              "      <td>Real</td>\n",
              "      <td>pin drop speech father daughter kidnapped kill...</td>\n",
              "      <td>email kayla mueller prisoner tortured isis cha...</td>\n",
              "      <td>1.0</td>\n",
              "    </tr>\n",
              "    <tr>\n",
              "      <th>4</th>\n",
              "      <td>Fed Up</td>\n",
              "      <td>2016-11-01T21:56:00.000+02:00</td>\n",
              "      <td>fantastic trumps  point plan to reform healthc...</td>\n",
              "      <td>email healthcare reform to make america great ...</td>\n",
              "      <td>english</td>\n",
              "      <td>100percentfedup.com</td>\n",
              "      <td>http://100percentfedup.com/wp-content/uploads/...</td>\n",
              "      <td>bias</td>\n",
              "      <td>Real</td>\n",
              "      <td>fantastic trumps point plan reform healthcare ...</td>\n",
              "      <td>email healthcare reform make america great sin...</td>\n",
              "      <td>1.0</td>\n",
              "    </tr>\n",
              "  </tbody>\n",
              "</table>\n",
              "</div>\n",
              "    <div class=\"colab-df-buttons\">\n",
              "\n",
              "  <div class=\"colab-df-container\">\n",
              "    <button class=\"colab-df-convert\" onclick=\"convertToInteractive('df-4e741966-9bac-4648-a404-f729863f6e0c')\"\n",
              "            title=\"Convert this dataframe to an interactive table.\"\n",
              "            style=\"display:none;\">\n",
              "\n",
              "  <svg xmlns=\"http://www.w3.org/2000/svg\" height=\"24px\" viewBox=\"0 -960 960 960\">\n",
              "    <path d=\"M120-120v-720h720v720H120Zm60-500h600v-160H180v160Zm220 220h160v-160H400v160Zm0 220h160v-160H400v160ZM180-400h160v-160H180v160Zm440 0h160v-160H620v160ZM180-180h160v-160H180v160Zm440 0h160v-160H620v160Z\"/>\n",
              "  </svg>\n",
              "    </button>\n",
              "\n",
              "  <style>\n",
              "    .colab-df-container {\n",
              "      display:flex;\n",
              "      gap: 12px;\n",
              "    }\n",
              "\n",
              "    .colab-df-convert {\n",
              "      background-color: #E8F0FE;\n",
              "      border: none;\n",
              "      border-radius: 50%;\n",
              "      cursor: pointer;\n",
              "      display: none;\n",
              "      fill: #1967D2;\n",
              "      height: 32px;\n",
              "      padding: 0 0 0 0;\n",
              "      width: 32px;\n",
              "    }\n",
              "\n",
              "    .colab-df-convert:hover {\n",
              "      background-color: #E2EBFA;\n",
              "      box-shadow: 0px 1px 2px rgba(60, 64, 67, 0.3), 0px 1px 3px 1px rgba(60, 64, 67, 0.15);\n",
              "      fill: #174EA6;\n",
              "    }\n",
              "\n",
              "    .colab-df-buttons div {\n",
              "      margin-bottom: 4px;\n",
              "    }\n",
              "\n",
              "    [theme=dark] .colab-df-convert {\n",
              "      background-color: #3B4455;\n",
              "      fill: #D2E3FC;\n",
              "    }\n",
              "\n",
              "    [theme=dark] .colab-df-convert:hover {\n",
              "      background-color: #434B5C;\n",
              "      box-shadow: 0px 1px 3px 1px rgba(0, 0, 0, 0.15);\n",
              "      filter: drop-shadow(0px 1px 2px rgba(0, 0, 0, 0.3));\n",
              "      fill: #FFFFFF;\n",
              "    }\n",
              "  </style>\n",
              "\n",
              "    <script>\n",
              "      const buttonEl =\n",
              "        document.querySelector('#df-4e741966-9bac-4648-a404-f729863f6e0c button.colab-df-convert');\n",
              "      buttonEl.style.display =\n",
              "        google.colab.kernel.accessAllowed ? 'block' : 'none';\n",
              "\n",
              "      async function convertToInteractive(key) {\n",
              "        const element = document.querySelector('#df-4e741966-9bac-4648-a404-f729863f6e0c');\n",
              "        const dataTable =\n",
              "          await google.colab.kernel.invokeFunction('convertToInteractive',\n",
              "                                                    [key], {});\n",
              "        if (!dataTable) return;\n",
              "\n",
              "        const docLinkHtml = 'Like what you see? Visit the ' +\n",
              "          '<a target=\"_blank\" href=https://colab.research.google.com/notebooks/data_table.ipynb>data table notebook</a>'\n",
              "          + ' to learn more about interactive tables.';\n",
              "        element.innerHTML = '';\n",
              "        dataTable['output_type'] = 'display_data';\n",
              "        await google.colab.output.renderOutput(dataTable, element);\n",
              "        const docLink = document.createElement('div');\n",
              "        docLink.innerHTML = docLinkHtml;\n",
              "        element.appendChild(docLink);\n",
              "      }\n",
              "    </script>\n",
              "  </div>\n",
              "\n",
              "\n",
              "    <div id=\"df-a9711172-9088-43c2-b44d-32d0804b809d\">\n",
              "      <button class=\"colab-df-quickchart\" onclick=\"quickchart('df-a9711172-9088-43c2-b44d-32d0804b809d')\"\n",
              "                title=\"Suggest charts\"\n",
              "                style=\"display:none;\">\n",
              "\n",
              "<svg xmlns=\"http://www.w3.org/2000/svg\" height=\"24px\"viewBox=\"0 0 24 24\"\n",
              "     width=\"24px\">\n",
              "    <g>\n",
              "        <path d=\"M19 3H5c-1.1 0-2 .9-2 2v14c0 1.1.9 2 2 2h14c1.1 0 2-.9 2-2V5c0-1.1-.9-2-2-2zM9 17H7v-7h2v7zm4 0h-2V7h2v10zm4 0h-2v-4h2v4z\"/>\n",
              "    </g>\n",
              "</svg>\n",
              "      </button>\n",
              "\n",
              "<style>\n",
              "  .colab-df-quickchart {\n",
              "      --bg-color: #E8F0FE;\n",
              "      --fill-color: #1967D2;\n",
              "      --hover-bg-color: #E2EBFA;\n",
              "      --hover-fill-color: #174EA6;\n",
              "      --disabled-fill-color: #AAA;\n",
              "      --disabled-bg-color: #DDD;\n",
              "  }\n",
              "\n",
              "  [theme=dark] .colab-df-quickchart {\n",
              "      --bg-color: #3B4455;\n",
              "      --fill-color: #D2E3FC;\n",
              "      --hover-bg-color: #434B5C;\n",
              "      --hover-fill-color: #FFFFFF;\n",
              "      --disabled-bg-color: #3B4455;\n",
              "      --disabled-fill-color: #666;\n",
              "  }\n",
              "\n",
              "  .colab-df-quickchart {\n",
              "    background-color: var(--bg-color);\n",
              "    border: none;\n",
              "    border-radius: 50%;\n",
              "    cursor: pointer;\n",
              "    display: none;\n",
              "    fill: var(--fill-color);\n",
              "    height: 32px;\n",
              "    padding: 0;\n",
              "    width: 32px;\n",
              "  }\n",
              "\n",
              "  .colab-df-quickchart:hover {\n",
              "    background-color: var(--hover-bg-color);\n",
              "    box-shadow: 0 1px 2px rgba(60, 64, 67, 0.3), 0 1px 3px 1px rgba(60, 64, 67, 0.15);\n",
              "    fill: var(--button-hover-fill-color);\n",
              "  }\n",
              "\n",
              "  .colab-df-quickchart-complete:disabled,\n",
              "  .colab-df-quickchart-complete:disabled:hover {\n",
              "    background-color: var(--disabled-bg-color);\n",
              "    fill: var(--disabled-fill-color);\n",
              "    box-shadow: none;\n",
              "  }\n",
              "\n",
              "  .colab-df-spinner {\n",
              "    border: 2px solid var(--fill-color);\n",
              "    border-color: transparent;\n",
              "    border-bottom-color: var(--fill-color);\n",
              "    animation:\n",
              "      spin 1s steps(1) infinite;\n",
              "  }\n",
              "\n",
              "  @keyframes spin {\n",
              "    0% {\n",
              "      border-color: transparent;\n",
              "      border-bottom-color: var(--fill-color);\n",
              "      border-left-color: var(--fill-color);\n",
              "    }\n",
              "    20% {\n",
              "      border-color: transparent;\n",
              "      border-left-color: var(--fill-color);\n",
              "      border-top-color: var(--fill-color);\n",
              "    }\n",
              "    30% {\n",
              "      border-color: transparent;\n",
              "      border-left-color: var(--fill-color);\n",
              "      border-top-color: var(--fill-color);\n",
              "      border-right-color: var(--fill-color);\n",
              "    }\n",
              "    40% {\n",
              "      border-color: transparent;\n",
              "      border-right-color: var(--fill-color);\n",
              "      border-top-color: var(--fill-color);\n",
              "    }\n",
              "    60% {\n",
              "      border-color: transparent;\n",
              "      border-right-color: var(--fill-color);\n",
              "    }\n",
              "    80% {\n",
              "      border-color: transparent;\n",
              "      border-right-color: var(--fill-color);\n",
              "      border-bottom-color: var(--fill-color);\n",
              "    }\n",
              "    90% {\n",
              "      border-color: transparent;\n",
              "      border-bottom-color: var(--fill-color);\n",
              "    }\n",
              "  }\n",
              "</style>\n",
              "\n",
              "      <script>\n",
              "        async function quickchart(key) {\n",
              "          const quickchartButtonEl =\n",
              "            document.querySelector('#' + key + ' button');\n",
              "          quickchartButtonEl.disabled = true;  // To prevent multiple clicks.\n",
              "          quickchartButtonEl.classList.add('colab-df-spinner');\n",
              "          try {\n",
              "            const charts = await google.colab.kernel.invokeFunction(\n",
              "                'suggestCharts', [key], {});\n",
              "          } catch (error) {\n",
              "            console.error('Error during call to suggestCharts:', error);\n",
              "          }\n",
              "          quickchartButtonEl.classList.remove('colab-df-spinner');\n",
              "          quickchartButtonEl.classList.add('colab-df-quickchart-complete');\n",
              "        }\n",
              "        (() => {\n",
              "          let quickchartButtonEl =\n",
              "            document.querySelector('#df-a9711172-9088-43c2-b44d-32d0804b809d button');\n",
              "          quickchartButtonEl.style.display =\n",
              "            google.colab.kernel.accessAllowed ? 'block' : 'none';\n",
              "        })();\n",
              "      </script>\n",
              "    </div>\n",
              "\n",
              "    </div>\n",
              "  </div>\n"
            ],
            "application/vnd.google.colaboratory.intrinsic+json": {
              "type": "dataframe",
              "variable_name": "df",
              "summary": "{\n  \"name\": \"df\",\n  \"rows\": 2096,\n  \"fields\": [\n    {\n      \"column\": \"author\",\n      \"properties\": {\n        \"dtype\": \"category\",\n        \"num_unique_values\": 491,\n        \"samples\": [\n          \"Carole Roscitto\",\n          \"Paul Craig Roberts\",\n          \"Shelby Kellin\"\n        ],\n        \"semantic_type\": \"\",\n        \"description\": \"\"\n      }\n    },\n    {\n      \"column\": \"published\",\n      \"properties\": {\n        \"dtype\": \"string\",\n        \"num_unique_values\": 2006,\n        \"samples\": [\n          \"2016-10-26T22:46:15.945+03:00\",\n          \"2016-10-27T01:45:00.000+03:00\",\n          \"2016-11-02T18:22:24.792+02:00\"\n        ],\n        \"semantic_type\": \"\",\n        \"description\": \"\"\n      }\n    },\n    {\n      \"column\": \"title\",\n      \"properties\": {\n        \"dtype\": \"string\",\n        \"num_unique_values\": 1784,\n        \"samples\": [\n          \"presstvrussian warships flotilla off syrian coast\",\n          \"hillary responds to creepy joe biden caught groping dozens of young women\",\n          \"trump kills the gop with the lowest score in history of presidential leadership poll\"\n        ],\n        \"semantic_type\": \"\",\n        \"description\": \"\"\n      }\n    },\n    {\n      \"column\": \"text\",\n      \"properties\": {\n        \"dtype\": \"string\",\n        \"num_unique_values\": 1941,\n        \"samples\": [\n          \"a subject not often discussed is the topic of how to repair strained or broken relationships it is one that comes up in everyones life so it will be useful to make a few suggestions about it here we will talk about relationships from friends family and lovers\\nrelationships among friends we will treat first the first step in this process is to make an evaluation to determine whether the relationship is worth saving or rehabilitating it is a simple fact of life that some relationships have an expiration date when two people no longer have anything in common or their paths take them in divergent directions it may be difficult to find common ground in this situation it is always better to let the relationship die a natural death slowly rather than rapidly abrupt terminations may leave the other party with negative feelings and this should be avoided if at all possible\\nthere are some instances where repair is not possible when someone has committed a fundamental violation of trust or respect this is a warning sign that the person was never a friend in the first place another point to keep in mind is that repair of a broken relationship requiresno demandsthe participation of both parties if the other person is unwilling to participate in the process then your efforts will be futile and will come to nothing\\n\\nonce we have determined that the friendship is worth repairing or sustaining the next step is to decide how to make the first approach to the other party in this we must try to evaluate the reasons for the problems in the first place we should make an honest assessment about how things got to where they are did someone say or do something that caused hard feelings on the other side was there some intervening cause that made the two parties diverge in plans and activities these types of questions must be honestly and repeatedly asked we have a tendency to minimize our own hurtful actions and exaggerate those of others and this must be kept in mind\\nthe key rule at this point is to try to put ourselves in the shoes of the other party we must try to see things from our friends perspective for many people this can be difficult as it involves getting past our own feelings of hurt or rejection and into the shoes of the other person and yet it is essential very frequently the reasons for strained or broken friendships lies in the fact that there is some problem going on in the other persons life only by being a perceptive student of human nature can we divine the cause sometimes the only thing that caused the strained relationship was some misunderstanding that was easily curable\\nkeep in mind that we must tryat least in our own mindsto discover the source of the other persons problem this is not always possible as human beings are not always rational but we can at least make the effort i remember in the film hoffa that there was a great line from jack nicholson he told one of his men real problems real grievances can be resolved they can be negotiated but imaginary grievances that man is going to hate you for life i have no idea if jimmy hoffa every actually said this but it sounds like something he would have said he meant that we should avoid hurting the pride of our friends we should be acutely aware how it is sometimes the intangible slights that can most rankle with a man\\nwhen you have decided to make the first step it is always better to initiate contact directly do not wait for the other person to do it depending on the circumstances this should be done discreetly and without too much in the way of overpowering insistence there is a certain type of finesse that a man should have at critical times and this is one of them the approach should be direct but neither insistent nor demanding a fish is best hooked with a lure gently laid\\nof vital importance here is that the approach be sincere one should genuinely want to contact the other party sincerity is the glue that binds friendships together and permits their longevity there should be no hypocrisy or falsity in any of our dealings with friends this kind of thing is immediately apparent and once detected its whiff surrounds the offending party like a permanent cloud if the other party is receptive to the approach we can then gradually feel our way forward taking care to avoid the reasons why the friendship became strained in the first place things may never quite go back to what they were but at least we can find solid ground for a new frame of reference\\ntwo examples will suffice here the historian william shirer worked closely with famed correspondent edward r murrow when the two were in germany in the s yet after the war was over the two grew apart shirers account of the estrangement suggests that he was repelled by murrows enthusiastic adoption of the anticommunist hysteria of the time shirer found himself gradually blackballed from most major news networks before being forced out completely he broke with murrow over these events many decades later he approached murrow all venom spent the two were able to find common ground again\\n\\nanother example makes the same point theodore roosevelt was a strongwilled insistent man to say the least he was in a position to choose his successor as president and to this end he selected a man very different from him the affable and rotund william howard taft taft eventually began to find roosevelt an overbearing and unwelcome presence in his life the two men eventually broke completely a result of their personality differences and different conceptions of leadership to his credit roosevelt eventually approached his old friend privately to patch things up they were never the same of course but at least some cordiality was restored\\nrelationships with family are of a fundamentally different sort because we are linked by bonds of blood or perhaps marriage it will be more difficult to disentangle ourselves from those with whom we have become estranged on the other hand it may be easier to repair such grievances or at least find common ground since there may be more shared experiences with the other party that act in our favor the key here is not to expect too much although shared history and common blood may work in our favor they can be counterbalanced to some extent by the fact that irrational family antagonisms can run deeper than those from strained friendships patience and persistence are most important here perhaps more so than friendships with those unrelated to us\\n\\nrepairing strained relationships with lovers is perhaps the most difficult when a man and woman have been united in the past through the coital act an entirely different set of emotions and motivations come into play relationships between lovers can fail or become strained for an infinite number of reasons and it would be impossible to discuss all of them here it is enough for me to state my opinion that it is nearly impossible to bring an intimate sexual relationship back to what it was after it has been broken\\nstrained is one thing broken is quite another my own experience leads me to believe that once a sexual relationship is done it is done one cannot really go back to what it was before amicable dealings are certainly possible and happen all the time but i would not call this friendship i would call it an uneasy equilibrium loves inflammatory presence scorches all it leaves in its wake\\nread more   proven ways to stop obsessive thoughts\",\n          \"louder with crowder october   \\nsamantha bee is proof positive that being funny clever or photogenic are no longer requirements in leftist media i guess we can call that progress problem is whatever the size of bees audience there is still an audience which she lied to par for the course in leftist circles but this one needs a rebuttal samantha bee said partial birth abortion is not a thing while she ranted and raved at donald trump for his comments in the final debate  sorry sammy partial birth abortion is sadly a thing \\nheres what i find interesting bees need to explain away partial birth abortion shows just how unpopular the procedure is shes trying to get rid of it not unlike a woman hoping to chop shop her unborn baby  of course she stops short of saying its a heinous evil thing for people to do to their own children by excusing the sick evil twisted women and the doctors who perform the butchery who make it happen sorry there is no reason to suck the brains out of a partially born baby for the health of the mother or if the baby has a terminal disease \\nabortion is always wrong like always \\nbecause chopping up a baby while its partially hanging out of the mother its head still in the birth canal because its going to die anyway makes sense if you agree with killing a baby like this for any reason youre sick probably a little bit evil read dear evil women who abort their babies yep that was written for you abortion supporters not sorry you might also like dear liberal women no getting an abortion is not brave this article was posted wednesday october   at  am share this article\",\n          \"united states marine field mcconnell  plum city online   abeldangernet   october   \\n abel danger  ad  claims that serco relayed zulu timing signals to mentors of the federal bridge certification authority in support of live webcast of torture killings in the mumbai attacks of november  and bc pig farm raves  \\n\\n ad claims that serco used an a prot\\u00e9g\\u00e9 company  base one technologies  to blackmail hillary clinton into outsourcing the operation of the us patent and trademark office to users of the federal bridge and equipping selected users with patented webcast servers for zulu betting on the times of victims deaths \\n\\n ad claims that in  serco operatives at the national visa center began equipping hillary clinton and michelle obama  a former sidley austin intellectual property ip lawyer and a prot\\u00e9g\\u00e9e of terrorist bernardine dohrn  with a longrange visa service for the bc pig farm and mumbai snufffilm crews \\n\\n united states marine field mcconnell  global operations director of abel danger  has offered to serve as a fivestar general in a future trump administration so he can first recognize and then destroy sercos zulu bridge to clinton patents and obama snufffilm crews \\n\\nmumbai terror attack watch nsg successful in mission against mumbai attackers   \\nmedia coverage of starnet raid  august       \\n\\nhillary clinton vs james comey email scandal supercut  \\ncopy of serco group plc list of subsidiaries and shareholders note british and saudi governments axa hsbc  teachers and gold man sachs    \\ndefense ammunition center outsourced to serco    \\nserco  would you like to know more  \\n\\ndigital fires instructor serco  camp pendleton ca uses information derived from all military disciplines eg aviation ground combat command and control combat service support intelligence and opposing forces to determine changes in enemy capabilities vulnerabilities and probable courses of action \\n\\nthe  mumbai bombay attacks were a series of attacks that took place in november  when  members of lashkaretaiba  an islamic militant organisation based in pakistan  carried out a series of  coordinated shooting and bombing attacks lasting four days across mumbai  the attacks which drew widespread global condemnation began on wednesday  november and lasted until saturday  november  killing  people and wounding at least    \\n\\neight of the attacks occurred in south mumbai at chhatrapati shivaji terminus  the oberoi trident the taj mahal palace  tower  leopold cafe cama hospital the nariman house jewish community centre the metro cinema and in a lane behind the times of india building and st xaviers college  there was also an explosion at mazagaon in mumbais port area and in a taxi at vile parle  by the early morning of  november all sites except for the taj hotel had been secured by mumbai police and security forces on  november indias national security guards nsg conducted operation black tornado to flush out the remaining attackers it culminated in the death of the last remaining attackers at the taj hotel and ending the attacks ajmal kasab disclosed that the attackers were members of lashkaretaiba among others the government of india said that the attackers came from pakistan and their controllers were in pakistan on  january  pakistan confirmed the sole surviving perpetrator of the attacks was a pakistani citizen on  april  the foremost ringleader of the attacks zakiur rehman lakhvi  was granted bail against surety bonds of  us in pakistan \\n\\nthe case of the vanishing visa files  \\ndecember    pm pst  \\nby chuck goudie   \\ndecember   chicago  potentially important evidence has disappeared in a terrorism case involving two chicago men their visa records vanished from chicagos indian consulate it comes one week after the abc  iteam raised questions about how david coleman headley and tahawwur rana obtained their foreign visas in the first place \\n\\nthe case of the vanishing visa records has churned up diplomats from mumbai to michigan avenue indias foreign secretary nirupama rao told reporters overseas wednesday that she wants answers from chicagos indian consulate about the records and visa documents that have disappeared records that might show how two accused chicago terrorists obtained permission to scout targets in india \\n\\ntop officials of chicagos india consulate wouldnt talk to the iteam on camera last week when asked how terror suspects david coleman headley and tahawwur rana obtained fiveyear unlimited passage visas to india \\n\\nand the consul general did not return calls wednesday regarding the paperwork they used to process headley and ranas visas which indian foreign secretary nirupama rao announced wednesday have disappeared \\n\\nwednesday evening the chicago consul general emailed a statement to the iteam that conflicted with government statements made in india the brief statement read we have not reported loss of any papers regarding issuance of visa to david coleman headley and tahawwur rana hussain relevant information concerning the issuance of visa to these persons is available with the government of india \\n\\nindias counterpart to the fbi is looking into the visa application process as part of its probe into the  mumbai massacre \\n\\nthe two chicago suspects are accused of having roles in the assault rana was denied bond by a chicago district judge tuesday despite family members and friends offering  million in cash and property rana has not been directly charged with the mumbai attack that left  dead but was linked to the assault in government court filings \\n\\nheadley a pakistanborn chicagoan is a convicted heroin dealer whose birth name was daood giliani he changed his name to ease travel to india according to federal prosecutors in chicago and to avoid the required previsa background check by indian authorities \\n\\nsince the time headley and rani were processed indias chicago consulate office began contracting out visa requests to a private company called travisa outsourcing that on its website claims we have revolutionized the way people get their visas \\n\\nand the new visa processing was subject of a news conference last year \\n\\nthe advantages of outsourcing is the travisa company which is handling the outsourcing has set up a call center said ashok kumar attri consul general \\n\\nforeign secretary rao said she is impressed with the cooperation the us has given to indian investigators headley and rana are not due back in court until january \\n\\nwas bernardine dohrn the mentor of michelle obama at sidley austin  \\napril    \\nbernardine dohrn was at sidley austin a law firm in chicago from from  to  dohrn was employed by the law firm sidley austin although her criminal record has prevented her from being admitted to either the new york or illinois bar httpenwikipediaorgwikibernardine_dohrn \\n\\nmichelle obama graduated from harvard law school in  but she likely also was a summer associate in  and likely  barack obama was assigned to her in  when he was a summer associate from harvard law school httpenwikipediaorgwikibarack_obama \\n\\nhe entered harvard law school in  more links and excerpts \\n\\nhttpsoldatlanticlighthousewordpresscomnorthwesternlawprofbernardinedohrnweatherunderground   \\n\\nsteve sailer on michelle obama \\nhttpwwwvdarecomsailer_michelle_obamahtm   \\n\\nmichelles princeton thesis \\nhttpblogvdarecomarchivesmichelleobamathesisfounddownloadithere   \\n\\njames fulford quotes politico \\n\\nmichelle obamas senior year thesis at princeton university obtained exclusively from the campaign by politico  shows a document written by a young woman grappling with a society in which a black princeton alumnus might only be allowed to remain on the periphery read the full thesis here part   part   part   part   michelle obama thesis was on racial divide  jeffrey ressner  politicocom \\n\\nsidley austin likely recognized this in michelle even if she didnt show them her princeton thesis who better at sidley austin to be mentor to the author of this princeton thesis than bernardine dohrn who had been number  on the fbi most wanted list \\n\\nbarack obama was assigned to michelle obama in summer  this may have reflected how few blacks there were at sidley austin especially from harvard law school or the equivalent dohrn got her jd from university of chicago law school since she is a prof at northwestern despite her background we might infer she was very smart and understanding so she was the perfect person to be the mentor for michelle obama at sidley austin \\n\\nthe above is speculation hypotheses or opinion all statements should be restated as questions all other disclaimers apply \\n\\nwebcasting is the distribution of media files through the internet the earliest webcast equivalent of an online concert and one of the earliest examples of webcasting itself was by apple computer s webcasting group in partnership with the entrepreneurs michael dorf and andrew rasiej  together with david b pakman from apple they launched the macintosh new york music festival from july   this event audio webcast concerts from more than  clubs in new york city apple later webcast a concert by metallica on june   live from slims in san francisco   \\n\\nin  benford e standley produced one of the first audiovideo webcasts in history on october   uk rock band caduseus broadcast their onehour concert from pm to am ut at celtica in machynlleth wales uk  the first live streamed audio and simultaneous live streamed video multicast  around the globe to more than twenty direct mirrors in more than twenty countries   \\n\\nserco processes  millionth patent application for us patent and trademark office date  mar  serco inc a leading provider of professional technology and management services to the federal government announced today that their pregrant publication pgpubs classification services team recently processed their  millionth patent application for the us patent  trademark office uspto each application was also processed within the contractually required day window \\n\\nbreaking hillaryclintons email server company got almost  million in govt loans after wiping emails   \\noctober    \\nby charles c johnson  comments  \\ngive it up already its over k j gillenwater was the primary researcher behind this story \\n\\nhillary clintons email server company got almost  million in government loans starting immediately after they were secretly asked to wipe hillary clintons name from her emails \\n\\nplatte river networks prn got a  loan from the small business administration in august  and another  loan in september  \\n\\npublic government data available as usaspendinggov \\n\\nthe first halfmillion dollar loan arrived not one month after prn employee paul combetta was caught accidentally revealing his company was deleting evidence at hillarys request in july   \\n\\nthe second  loan came about one year later \\n\\nyou wont hear this stuff from the lying mainstream media keep the gotnews mission alive donate at gotnewscomdonate or send tips to editorgotnewscom if youd like to join our research team contacteditorgotnewscom \\n\\nafter getting the first loan prn moved to a large office space after previously working out of the owners condo the head of the small business administration is maria contrerassweet  a mexican immigrant who was appointed to the office by barack obama two months before hillarys prn got the first loan \\n\\nwikileaks leaks have proven hillarys corrupt paytoplay scheme gotnews has shined a light on how hillary gets favors from hispanic and democratic government bureaucrats before  \\n\\ndid hillary clinton pay her email server company platte river networks prn with almost  million in favorable government loans  given out by a political friendly  in order to alter her illegal emails and get her name off them \\n\\nit sure looks like it \\n\\na freedom of information act foia request has been lodged for more information \\n\\nstay tuned for more \\n\\nk j gillenwater was the primary researcher behind this story  \\n\\npolice conclude search of starnet   \\ncbc news posted aug    am et last updated aug    am et  \\npolice have wrapped up several days of searching the offices of starnet communications in vancouver they entered the company offices and homes of some directors on friday \\n\\npolice were looking for evidence of illegal gambling distributing child pornography and money laundering since the raid starnet officials say police just dont understand their business \\n\\nthe search warrant details  months of police investigation it traces a network of companies registered in american and caribbean jurisdictions \\n\\nthe warrant also identifies vancouver as the centre of starnets operations even though this is a grey under canadian law \\n\\npolice note that starnets revenues grew dramatically in the past two years from betting and sex shows and from lucrative licensing agreements for its gaming software the investigations and pornography from company sites were grounds for fridays raid and seizure of company materials \\n\\nrcmp constable peter thiessen says investigators left starnet offices yesterday morning he says they spent the better part of three days going through the business and as a result of that search the investigation is continuing but no charges have been laid starnets many investors were spooked by the raid share prices dropped almost percent on friday however the company insists the raid had minimal effect on its operation stocks rose slightly yesterday after a day of very heavy trading \\n\\nin written statements company ceo mark dohlen said the wall street journal calls starnet the leader in internet gaming and entertainment he says companies like his those on the cutting edge are often misunderstood yesterday starnet announced it will sell off the sex side of its business it plans to focus more resources on gaming \\n\\nthe police investigation is expected to last for several more months \\n\\nsuper serco bulldozes ahead  \\nby daily mail reporter updated  gmt  september  \\nserco has come a long way since the s when it ran the fourminute warning system to alert the nation to a ballistic missile attack \\n\\ntoday its bn order book is bigger than many countries defence budgets it is bidding for a further bn worth of contracts and sees bn of opportunities \\n\\nprofit growth is less ballistic the firsthalf pretax surplus rose  to m net profits just  to m stripping out goodwill the rise was  with dividends up  to p \\n\\nserco runs the docklands light railway five uk prisons airport radar and forest bulldozers in florida  \\n\\n serco farewell to npl after  years of innovation  january  serco said goodbye to the national physical laboratory npl at the end of december  after  years of extraordinary innovation and science that has seen the establishment build a worldleading reputation and deliver billions of pounds of benefit for the uk economy during that period under serco s management and leadership npl has delivered an extraordinary variety and breadth of accomplishments for the uks economy and industry some of the key achievements during that time have been it has been estimated that work carried out by the centre of carbon measurement at npl will save eight million tonnes of carbon emissions reductions  of uk footprint and over half a billion pounds in economic benefit over the next decade npls caesium fountain atomic clock is accurate to  second in  million years and npl is playing a key role in introducing rigour to high frequency trading for serco s front running banks in the city through npl zulu time \\n\\nuk cabinet office  emergency planning college  serco types of exercise workshop exercises these are structured discussion events where participants can explore issues in a less pressurised environment they are an ideal way of developing solutions procedures and plans rather than the focus being on decision making table top exercises these involve a realistic scenario and will follow a time line either in realtime or with time jumps to concentrate on the more important areas the participants would be expected to be familiar with the plans and procedures that are being used although the exercise tempo and complexity can be adjusted to suit the current state of training and readiness simulation and media play can be used to support the exercise tabletop exercises help develop teamwork and allow participants to gain a better understanding of their roles and that of other agencies and organisations commandcontrol post exercises these are designed primarily to exercise the senior leadership and support staff in collective planning and decision making within a strategic grouping ideally such exercises would be run from the real command and control locations and using their communications and information systems feeling lucky punk  this could include a mix of locations and varying levels of technical simulation support the gold standard system is flexible to allow the tempo and intensity to be adjusted to ensure maximum training benefit or to fully test and evaluate the most important aspects of a plan such exercises also test information flow communications equipment procedures decision making and coordination live exercises these can range from testing individual components of a system or organisation through to a fullscale rehearsal they are particularly useful where there are regulatory requirements or with highrisk situations they are more complex and costly to organise and deliver but can be integrated with command post exercises as part of a wider exercising package  \\n\\nchristopher rajendran hyman cbe born  july  in durban south africa was chief executive of serco group plc from  to october   on graduation he worked for arthur andersen in  he won an month exchange with ernst  young in london who employed him after four months head hunted in  by serco  hyman became european finance director and in  was made group finance director in  hyman became chief executive  hyman resigned from his role of chief executive of serco on  october  following allegations that serco had overcharged government customers  he was making a presentation to serco shareholder including british and saudi governments on the th floor of the world trade center north tower at the time of the september  attacks in  \\n\\njuly   developments in pki occurred in the early s at the british intelligence agency gchq  where james ellis  clifford cocks and others made important discoveries related to encryption algorithms and key distribution   however as developments at gchq are highly classified the results of this work were kept secret and not publicly acknowledged until the mids \\n\\nthe public disclosure of both secure key exchange and asymmetric key algorithms in  by diffie hellman  rivest shamir  and adleman changed secure communications entirely with the further development of highspeed digital electronic communications the internet and its predecessors a need became evident for ways in which users could securely communicate with each other and as a further consequence of that for ways in which users could be sure with whom they were actually interacting \\n\\nassorted cryptographic protocols were invented and analyzed within which the new cryptographic primitives could be effectively used with the invention of the world wide web and its rapid spread the need for authentication and secure communication became still more acute commercial reasons alone eg ecommerce online access to proprietary databases from web browsers were sufficient taher elgamal and others at netscape developed the ssl protocol https in web urls it included key establishment server authentication prior to v oneway only and so on a pki structure was thus created for web userssites wishing secure communications \\n\\nvendors and entrepreneurs saw the possibility of a large market started companies or new projects at existing companies and began to agitate for legal recognition and protection from liability an american bar association technology project published an extensive analysis of some of the foreseeable legal aspects of pki operations see aba digital signature guidelines and shortly thereafter several us states utah being the first in  and other jurisdictions throughout the world began to enact laws and adopt regulations consumer groups raised questions about privacy access and liability considerations which were more taken into consideration in some jurisdictions than in others \\n\\nthe enacted laws and regulations differed there were technical and operational problems in converting pki schemes into successful commercial operation and progress has been much slower than pioneers had imagined it would be \\n\\nby the first few years of the st century the underlying cryptographic engineering was clearly not easy to deploy correctly operating procedures manual or automatic were not easy to correctly design nor even if so designed to execute perfectly which the engineering required the standards that existed were insufficient \\n\\npki vendors have found a market but it is not quite the market envisioned in the mids and it has grown both more slowly and in somewhat different ways than were anticipated pkis have not solved some of the problems they were expected to and several major vendors have gone out of business or been acquired by others pki has had the most success in government implementations the largest pki implementation to date is the defense information systems agency disa pki infrastructure for the common access cards program  \\n\\nbase one technologies  corporate strategy  we are a government certified womenowned business   \\nwe practice diversity recruitment and staffing for it positions base one was founded in  by a women engineer who had made a career in technology research for many years base one has been very successful in focusing on diversity recruiting and staffing for it projects it has been our experience that the greater the diversity mix the more creative the solution as in any field the more diverse the viewpoint the more thorough your analysis our engineers can think out of the box \\n\\nbecause of our affiliations we have access to pools of resources among more diverse groups  individuals we work with a large pool of minority professionals who specialize in it skills we are able to have access to these resources through our status as a dmwbd firm and our affiliations these affiliations assist us in working with resources among more diverse groups  individuals we are also partnered with firms that are a certified as minority firms disabled veteran firms native american firms vietnam veteran firms women owned firms \\n\\nour hub zone location keeps us close to the professional organizations of great diversity we are active in recruiting from and networking with these community organizations of local it professionals this has given us access to a large pool of diversity talent \\n\\nbase ones staff of engineers are a diverse group of professionals this diverse network of engineers helps us to branch out to other engineers and creates an even larger network of resources for us to work with \\n\\nthe greater the diversity the more complete  thorough the analysis the broader the spectrum of points of view the broader the scope of the analysis we feel that a diverse team gives us a greater advantage in creating cutting edge solutions to that end we will continue to nurture these relationships to further extend our talent pool \\n\\nthe greater the diversity mix the more creative the solution \\n\\nthe more diverse the viewpoint the more thorough the analysis \\n\\nthe more diverse our team the more our engineers can think out of the box \\n\\nthis is why base one technologies concentrates on diversity recruitment in the belief that a diverse team gives us a greater advantage in creating cutting edge solutions \\n\\ninformation security planning is the process whereby an organization seeks to protect its operations and assets from data theft or computer hackers that seek to obtain unauthorized information or sabotage business operations \\n\\nkey clients benefiting from our information security expertise pentagon renovation program faa citigroup mci \\n\\nbase one technologies \\n\\nexpertly researches designs and develops information security policies that protect your data and manage your firms information technology risk at levels acceptable to your business \\n\\nperforms architectural assessments and conducts both internal and external penetration testing the results of these efforts culminate in an extensive risk analysis and vulnerabilities report \\n\\ndevelops implements and supports information security counter measures such as honeypots and evidence logging and incident documentation processes and solutions \\n\\nbase one technologies ltd is a domestic business corporation located in new york ny and was formed on feb   this file was obtained from the secretary of state and has a file number of   \\n\\nsercos office of partner relations opr helps facilitate our aggressive small business utilization and growth strategies through the opr serco mentors four local small businesses under formal mentor prot\\u00e9g\\u00e9 agreements three sponsored by dhs base one technologies tsymmetry inc and heitech services inc and the fourth sponsored by gsa dkw communications inc serco and heitech services were awarded the  dhs mentor prot\\u00e9g\\u00e9 team award for exceeding our mentoring goals httpwwwdticmilwhsdirectivescorrespdfppdf \\n\\nopened in  as the successor to the transitional immigrant visa processing center in rosslyn va the nvc centralizes all immigrant visa preprocessing and appointment scheduling for overseas posts the nvc collects paperwork and fees before forwarding a case ready for adjudication to the responsible post \\n\\nthe center also handles immigrant and fianc\\u00e9 visa petitions and while it does not adjudicate visa applications it provides technical assistance and support to visaadjudicating consular officials overseas \\n\\nonly two foreign service officers the director and deputy director work at the center along with just five civil service employees they work with almost  contract employees doing preprocessing of visas making the center one of the largest employers in the portsmouth area \\n\\nthe contractor serco  inc has worked with the nvc since its inception and with the department for almost  years \\n\\nthe nvc houses more than  million immigrant visa files receives almost two million pieces of mail per year and received more than half a million petitions from the us citizenship and immigration service uscis in  its file rooms highdensity shelves are stacked floortoceiling with files each a collection of someones hopes and dreams and each requiring proper handling  \\n\\nthe nvc also preprocesses the chief of mission com application required for the filing of a petition for a special immigrant visa siv such visas for foreign nationals who have performed services for the us government in iraq and afghanistan require com concurrence before the applicant can file a petition with uscis the nvc collects the requisite documents from such applicants and when complete forwards the package to the us embassies in baghdad or kabul for com approval \\n\\nyours sincerely \\n\\nfield mcconnell united states naval academy  forensic economist  year airline and  year military pilot  hours of safety tel    \\n\\ndavid hawkins tel   forensic economist former leader of oilwell blowout teams now sponsors grand juries in csi crime and safety investigation\"\n        ],\n        \"semantic_type\": \"\",\n        \"description\": \"\"\n      }\n    },\n    {\n      \"column\": \"language\",\n      \"properties\": {\n        \"dtype\": \"category\",\n        \"num_unique_values\": 5,\n        \"samples\": [\n          \"ignore\",\n          \"spanish\",\n          \"german\"\n        ],\n        \"semantic_type\": \"\",\n        \"description\": \"\"\n      }\n    },\n    {\n      \"column\": \"site_url\",\n      \"properties\": {\n        \"dtype\": \"category\",\n        \"num_unique_values\": 68,\n        \"samples\": [\n          \"proudemocrat.com\",\n          \"clickhole.com\",\n          \"abovetopsecret.com\"\n        ],\n        \"semantic_type\": \"\",\n        \"description\": \"\"\n      }\n    },\n    {\n      \"column\": \"main_img_url\",\n      \"properties\": {\n        \"dtype\": \"string\",\n        \"num_unique_values\": 1229,\n        \"samples\": [\n          \"https://4.bp.blogspot.com/-HAp5fNZT0L0/WCr1jhplhiI/AAAAAAAAmGY/E2AUUm8wydo_dB2DtBE_cN2xqwHjB0zTgCLcB/w1200-h630-p-nu/Flitzer-Schach-WM.jpg\",\n          \"http://www.voltairenet.org/local/cache-vignettes/L113xH150/arton193897-6c713.jpg\",\n          \"http://awdnews.com/images/14775618731.jpg\"\n        ],\n        \"semantic_type\": \"\",\n        \"description\": \"\"\n      }\n    },\n    {\n      \"column\": \"type\",\n      \"properties\": {\n        \"dtype\": \"category\",\n        \"num_unique_values\": 8,\n        \"samples\": [\n          \"conspiracy\",\n          \"hate\",\n          \"bias\"\n        ],\n        \"semantic_type\": \"\",\n        \"description\": \"\"\n      }\n    },\n    {\n      \"column\": \"label\",\n      \"properties\": {\n        \"dtype\": \"category\",\n        \"num_unique_values\": 2,\n        \"samples\": [\n          \"Fake\",\n          \"Real\"\n        ],\n        \"semantic_type\": \"\",\n        \"description\": \"\"\n      }\n    },\n    {\n      \"column\": \"title_without_stopwords\",\n      \"properties\": {\n        \"dtype\": \"string\",\n        \"num_unique_values\": 1780,\n        \"samples\": [\n          \"weekly astrology nov us election prediction video\",\n          \"friday fox follies megyn murdochs money\"\n        ],\n        \"semantic_type\": \"\",\n        \"description\": \"\"\n      }\n    },\n    {\n      \"column\": \"text_without_stopwords\",\n      \"properties\": {\n        \"dtype\": \"string\",\n        \"num_unique_values\": 1937,\n        \"samples\": [\n          \"email ever wonder whats mind todays notable people well dont miss unbelievable roundup best talked quotes day saw contortionist fold box toys food box didnt really see point paula hawkins flexibility youre rich pay guy breathe shoes warm put youre less wealthy still afford someone really matter frugal spending organizing coop neighborhood people take turns breathing others shoes sheryl sandberg everyday luxury skin avocado hide many secret remove journey mystery madness neil gaiman\",\n          \"sonntag november sonntagsfrage sagen sie dazu dass donald trump tats\\u00e4chlich gewonnen hat w das werden sich hierzulande viele gedacht haben als sie mittwochmorgen die ersten nachrichten von donald trumps sieg gelesen haben nun wo sie sich allm\\u00e4hlich damit abgefunden haben d\\u00fcrften der ustillon nicht unterst\\u00fctzt vom meinungsforschungsinstitut opinion control weil denen seit der wahl nicht mehr zu trauen ist dieser woche von ihnen wissen und hier noch die unglaublich spannenden ergebnisse der letzten sonntagsfrage stimmen gesamt wer soll n\\u00e4chster bundespr\\u00e4sident werden topantworten tim wiese pro rhetorisches ass contra passt nicht durch die t\\u00fcr im schloss bellevue stimmen ich selbst pro einzige person der ich traue contra leider korrupt stimmen jan b\\u00f6hmermann pro etwas lustiger als gauck contra krieg mit der t\\u00fcrkei stimmen\"\n        ],\n        \"semantic_type\": \"\",\n        \"description\": \"\"\n      }\n    },\n    {\n      \"column\": \"hasImage\",\n      \"properties\": {\n        \"dtype\": \"number\",\n        \"std\": 0.4162989238673661,\n        \"min\": 0.0,\n        \"max\": 1.0,\n        \"num_unique_values\": 2,\n        \"samples\": [\n          0.0,\n          1.0\n        ],\n        \"semantic_type\": \"\",\n        \"description\": \"\"\n      }\n    }\n  ]\n}"
            }
          },
          "metadata": {},
          "execution_count": 19
        }
      ]
    },
    {
      "cell_type": "code",
      "source": [
        "import pandas as pd\n",
        "import numpy as np\n",
        "import matplotlib.pyplot as plt\n",
        "import seaborn as sns\n",
        "\n",
        "# Traitement du texte\n",
        "import re\n",
        "import nltk\n",
        "from nltk.corpus import stopwords\n",
        "from nltk.stem import PorterStemmer\n",
        "\n",
        "# Vectorisation et clustering\n",
        "from sklearn.feature_extraction.text import TfidfVectorizer\n",
        "from sklearn.cluster import KMeans\n",
        "from sklearn.decomposition import PCA\n",
        "\n",
        "# Pour le déploiement\n",
        "from flask import Flask, request, render_template\n",
        "\n",
        "# Charger le jeu de données\n",
        "df = pd.read_csv(\"/content/news_articles.csv\")\n"
      ],
      "metadata": {
        "id": "enN4-Fy08-GY"
      },
      "execution_count": 20,
      "outputs": []
    },
    {
      "cell_type": "code",
      "source": [],
      "metadata": {
        "id": "s0GC0LYd-UUe"
      },
      "execution_count": 20,
      "outputs": []
    },
    {
      "cell_type": "markdown",
      "source": [
        "## 2. Prétraitement des données\n"
      ],
      "metadata": {
        "id": "hKggoE2w-c-f"
      }
    },
    {
      "cell_type": "code",
      "source": [],
      "metadata": {
        "id": "a6a1sClU-eQE"
      },
      "execution_count": 20,
      "outputs": []
    },
    {
      "cell_type": "markdown",
      "source": [
        "##### Nettoyez et préparez les données textuelles pour le clustering."
      ],
      "metadata": {
        "id": "JurhrMOW-hrr"
      }
    },
    {
      "cell_type": "code",
      "source": [
        "nltk.download('stopwords')\n",
        "stop_words = set(stopwords.words('english'))\n",
        "stemmer = PorterStemmer()\n",
        "\n",
        "def preprocess_text(text):\n",
        "    if pd.isnull(text):\n",
        "        return \"\"\n",
        "    text = re.sub(r\"http\\S+\", \"\", text)  # Supprimer les URLs\n",
        "    text = re.sub(r\"[^a-zA-Z]\", \" \", text)  # Supprimer les caractères spéciaux\n",
        "    text = text.lower()\n",
        "    tokens = text.split()\n",
        "    tokens = [stemmer.stem(word) for word in tokens if word not in stop_words]\n",
        "    return \" \".join(tokens)\n",
        "\n",
        "# Appliquer le prétraitement\n",
        "df['processed_text'] = df['text'].apply(preprocess_text)\n"
      ],
      "metadata": {
        "colab": {
          "base_uri": "https://localhost:8080/"
        },
        "id": "O12jj9mg-jzi",
        "outputId": "abf611fd-5da5-4d5b-cc94-1d9a25d36fa3"
      },
      "execution_count": 21,
      "outputs": [
        {
          "output_type": "stream",
          "name": "stderr",
          "text": [
            "[nltk_data] Downloading package stopwords to /root/nltk_data...\n",
            "[nltk_data]   Unzipping corpora/stopwords.zip.\n"
          ]
        }
      ]
    },
    {
      "cell_type": "markdown",
      "source": [
        "## 3. Vectorisation avec TF-IDF\n"
      ],
      "metadata": {
        "id": "4xLXXoqb-6-x"
      }
    },
    {
      "cell_type": "code",
      "source": [
        "vectorizer = TfidfVectorizer(max_df=0.7, min_df=5, max_features=1000)\n",
        "X = vectorizer.fit_transform(df['processed_text'])\n"
      ],
      "metadata": {
        "id": "KysztUlP-qeY"
      },
      "execution_count": 22,
      "outputs": []
    },
    {
      "cell_type": "markdown",
      "source": [
        "## 4. Clustering avec K-Means\n"
      ],
      "metadata": {
        "id": "B-XAQRAu_DF8"
      }
    },
    {
      "cell_type": "code",
      "source": [
        "# Déterminer le nombre optimal de clusters (k) à l'aide de la méthode du coude\n",
        "inertia = []\n",
        "k_range = range(2, 10)\n",
        "for k in k_range:\n",
        "    km = KMeans(n_clusters=k, random_state=42)\n",
        "    km.fit(X)\n",
        "    inertia.append(km.inertia_)\n",
        "\n",
        "# Tracer la courbe du coude\n",
        "plt.figure(figsize=(8, 4))\n",
        "plt.plot(k_range, inertia, marker='o')\n",
        "plt.xlabel('Nombre de clusters (k)')\n",
        "plt.ylabel('Inertie')\n",
        "plt.title('Méthode du coude pour déterminer k')\n",
        "plt.show()\n",
        "\n",
        "# Choisir le nombre optimal de clusters (par exemple, k=4)\n",
        "k = 4\n",
        "model = KMeans(n_clusters=k, random_state=42)\n",
        "model.fit(X)\n",
        "df['cluster'] = model.labels_\n"
      ],
      "metadata": {
        "colab": {
          "base_uri": "https://localhost:8080/",
          "height": 369
        },
        "id": "bHLZFecy_AYM",
        "outputId": "fbe73518-23b0-4506-9766-24c53c89aa58"
      },
      "execution_count": 23,
      "outputs": [
        {
          "output_type": "display_data",
          "data": {
            "text/plain": [
              "<Figure size 800x400 with 1 Axes>"
            ],
            "image/png": "[encoded data removed]"
          },
          "metadata": {}
        }
      ]
    },
    {
      "cell_type": "code",
      "source": [],
      "metadata": {
        "id": "LvDz16qT_HoN"
      },
      "execution_count": 23,
      "outputs": []
    },
    {
      "cell_type": "markdown",
      "source": [
        "## 5. Visualisation des clusters\n"
      ],
      "metadata": {
        "id": "foDPOK6s_geK"
      }
    },
    {
      "cell_type": "code",
      "source": [
        "pca = PCA(n_components=2, random_state=42)\n",
        "X_pca = pca.fit_transform(X.toarray())\n",
        "\n",
        "plt.figure(figsize=(10, 6))\n",
        "sns.scatterplot(x=X_pca[:, 0], y=X_pca[:, 1], hue=df['cluster'], palette='Set2')\n",
        "plt.title('Visualisation des clusters de fake news')\n",
        "plt.xlabel('Composante principale 1')\n",
        "plt.ylabel('Composante principale 2')\n",
        "plt.legend(title='Cluster')\n",
        "plt.show()\n"
      ],
      "metadata": {
        "colab": {
          "base_uri": "https://localhost:8080/",
          "height": 418
        },
        "id": "E4czVJ72_k3_",
        "outputId": "ec59b84f-561b-4018-c4ea-c751b5a24135"
      },
      "execution_count": 24,
      "outputs": [
        {
          "output_type": "display_data",
          "data": {
            "text/plain": [
              "<Figure size 1000x600 with 1 Axes>"
            ],
            "image/png": "[encoded data removed]"
          },
          "metadata": {}
        }
      ]
    },
    {
      "cell_type": "code",
      "source": [
        "!pip install pickle"
      ],
      "metadata": {
        "colab": {
          "base_uri": "https://localhost:8080/"
        },
        "id": "PjDpV0IO_nFc",
        "outputId": "aeb57154-0e61-40d8-a70c-ab7b862f92b6"
      },
      "execution_count": 25,
      "outputs": [
        {
          "output_type": "stream",
          "name": "stdout",
          "text": [
            "\u001b[31mERROR: Could not find a version that satisfies the requirement pickle (from versions: none)\u001b[0m\u001b[31m\n",
            "\u001b[0m\u001b[31mERROR: No matching distribution found for pickle\u001b[0m\u001b[31m\n",
            "\u001b[0m"
          ]
        }
      ]
    },
    {
      "cell_type": "code",
      "source": [
        "import pickle\n",
        "\n",
        "with open('kmeans_model.pkl', 'wb') as f:\n",
        "    pickle.dump(model, f)\n",
        "\n",
        "with open('tfidf_vectorizer.pkl', 'wb') as f:\n",
        "    pickle.dump(vectorizer, f)\n"
      ],
      "metadata": {
        "id": "Ct4gxNt3A9lA"
      },
      "execution_count": 26,
      "outputs": []
    },
    {
      "cell_type": "code",
      "source": [
        "import pickle\n",
        "\n",
        "# Charger le modèle K-Means\n",
        "with open('/content/kmeans_model.pkl', 'rb') as f:\n",
        "    model = pickle.load(f)\n",
        "\n",
        "# Charger le vectoriseur TF-IDF\n",
        "with open('/content/tfidf_vectorizer.pkl', 'rb') as f:\n",
        "    vectorizer = pickle.load(f)\n"
      ],
      "metadata": {
        "id": "h3UKa8tiA_2H"
      },
      "execution_count": 27,
      "outputs": []
    },
    {
      "cell_type": "markdown",
      "source": [
        "##  Prétraiter le nouvel article\n"
      ],
      "metadata": {
        "id": "1b3_vH4fBT96"
      }
    },
    {
      "cell_type": "code",
      "source": [
        "import re\n",
        "import nltk\n",
        "from nltk.corpus import stopwords\n",
        "from nltk.stem import PorterStemmer\n",
        "\n",
        "# Télécharger les stopwords si ce n'est pas déjà fait\n",
        "nltk.download('stopwords')\n",
        "\n",
        "stop_words = set(stopwords.words('english'))\n",
        "stemmer = PorterStemmer()\n",
        "\n",
        "def preprocess_text(text):\n",
        "    if not text:\n",
        "        return \"\"\n",
        "    text = re.sub(r\"http\\S+\", \"\", text)  # Supprimer les URLs\n",
        "    text = re.sub(r\"[^a-zA-Z]\", \" \", text)  # Supprimer les caractères spéciaux\n",
        "    text = text.lower()\n",
        "    tokens = text.split()\n",
        "    tokens = [stemmer.stem(word) for word in tokens if word not in stop_words]\n",
        "    return \" \".join(tokens)\n",
        "\n",
        "# Exemple d'article\n",
        "new_article = \"\"\"\n",
        "In November 2016, a website called the Denver Guardian published a sensational story claiming that an FBI agent involved in the investigation of Hillary Clinton's email leaks was found dead in a murder-suicide. The article alleged that the agent had killed his wife before taking his own life.\n",
        "\"\"\"\n",
        "\n",
        "# Prétraitement\n",
        "processed_article = preprocess_text(new_article)\n"
      ],
      "metadata": {
        "colab": {
          "base_uri": "https://localhost:8080/"
        },
        "id": "OuGz2bscBRS4",
        "outputId": "65d2cf9f-7197-4af4-fd8b-bf284e23868b"
      },
      "execution_count": 28,
      "outputs": [
        {
          "output_type": "stream",
          "name": "stderr",
          "text": [
            "[nltk_data] Downloading package stopwords to /root/nltk_data...\n",
            "[nltk_data]   Package stopwords is already up-to-date!\n"
          ]
        }
      ]
    },
    {
      "cell_type": "markdown",
      "source": [
        "## Vectoriser le texte"
      ],
      "metadata": {
        "id": "07Uiq_ZzBuVu"
      }
    },
    {
      "cell_type": "code",
      "source": [
        "X_new = vectorizer.transform([processed_article])\n"
      ],
      "metadata": {
        "id": "-sEjpUdxBrUT"
      },
      "execution_count": 29,
      "outputs": []
    },
    {
      "cell_type": "markdown",
      "source": [
        "## Prédire le cluster"
      ],
      "metadata": {
        "id": "yXReCCPfB9b8"
      }
    },
    {
      "cell_type": "code",
      "source": [
        "predicted_cluster = model.predict(X_new)[0]\n",
        "print(f\"L'article appartient au cluster : {predicted_cluster}\")\n"
      ],
      "metadata": {
        "colab": {
          "base_uri": "https://localhost:8080/"
        },
        "id": "FDoAck8wB6ob",
        "outputId": "4d7f3bfd-9ce1-4da1-86d7-c2ac1b7ed15a"
      },
      "execution_count": 30,
      "outputs": [
        {
          "output_type": "stream",
          "name": "stdout",
          "text": [
            "L'article appartient au cluster : 3\n"
          ]
        }
      ]
    },
    {
      "cell_type": "code",
      "source": [
        "from sklearn.model_selection import train_test_split\n",
        "from sklearn.linear_model import LogisticRegression\n",
        "from sklearn.metrics import classification_report\n",
        "\n",
        "# Encode labels: 'Fake' as 0, 'Real' as 1\n",
        "df['label_encoded'] = df['label'].map({'Fake': 0, 'Real': 1})\n",
        "\n",
        "# Vectorize the processed text column (assuming already preprocessed)\n",
        "X = vectorizer.fit_transform(df['processed_text'])\n",
        "\n",
        "# Split the data into training and test sets\n",
        "X_train, X_test, y_train, y_test = train_test_split(\n",
        "    X, df['label_encoded'], test_size=0.2, random_state=42\n",
        ")\n",
        "\n",
        "# Initialize and train the classifier\n",
        "classifier = LogisticRegression(max_iter=1000)\n",
        "classifier.fit(X_train, y_train)\n",
        "\n",
        "# Evaluate on the test set\n",
        "y_pred = classifier.predict(X_test)\n",
        "print(classification_report(y_test, y_pred))\n"
      ],
      "metadata": {
        "colab": {
          "base_uri": "https://localhost:8080/"
        },
        "id": "nDE9f3mZB_gy",
        "outputId": "cc517f24-406b-4d79-a807-b6ad70b091f4"
      },
      "execution_count": 35,
      "outputs": [
        {
          "output_type": "stream",
          "name": "stdout",
          "text": [
            "              precision    recall  f1-score   support\n",
            "\n",
            "           0       0.70      0.87      0.78       264\n",
            "           1       0.62      0.37      0.47       155\n",
            "\n",
            "    accuracy                           0.68       419\n",
            "   macro avg       0.66      0.62      0.62       419\n",
            "weighted avg       0.67      0.68      0.66       419\n",
            "\n"
          ]
        }
      ]
    },
    {
      "cell_type": "code",
      "source": [
        "print(df['label'].isna().sum())\n"
      ],
      "metadata": {
        "colab": {
          "base_uri": "https://localhost:8080/"
        },
        "id": "YRQYIcvLDP2g",
        "outputId": "2bb5e483-f474-4707-e7f9-d95f0059b209"
      },
      "execution_count": 33,
      "outputs": [
        {
          "output_type": "stream",
          "name": "stdout",
          "text": [
            "1\n"
          ]
        }
      ]
    },
    {
      "cell_type": "code",
      "source": [
        "df = df.dropna(subset=['label'])\n"
      ],
      "metadata": {
        "id": "Qtds41QHDjvO"
      },
      "execution_count": 34,
      "outputs": []
    },
    {
      "cell_type": "markdown",
      "source": [
        "### logistic regression"
      ],
      "metadata": {
        "id": "AbPvI60xE878"
      }
    },
    {
      "cell_type": "code",
      "source": [
        "from imblearn.over_sampling import SMOTE\n",
        "from sklearn.linear_model import LogisticRegression\n",
        "from sklearn.model_selection import train_test_split\n",
        "from sklearn.metrics import classification_report\n",
        "\n",
        "# Make sure 'imblearn' is installed: !pip install imblearn\n",
        "\n",
        "# Drop rows with missing labels\n",
        "df = df.dropna(subset=['label'])\n",
        "\n",
        "# Encode labels\n",
        "df['label_encoded'] = df['label'].map({'Fake': 0, 'Real': 1})\n",
        "\n",
        "# Vectorize the text\n",
        "X = vectorizer.fit_transform(df['processed_text'])\n",
        "y = df['label_encoded']\n",
        "\n",
        "# Split the data first (important to avoid data leakage)\n",
        "X_train, X_test, y_train, y_test = train_test_split(\n",
        "    X, y, test_size=0.2, random_state=42, stratify=y\n",
        ")\n",
        "\n",
        "# Apply SMOTE to training data only\n",
        "smote = SMOTE(random_state=42)\n",
        "X_train_resampled, y_train_resampled = smote.fit_resample(X_train, y_train)\n",
        "\n",
        "# Train classifier on resampled data\n",
        "classifier = LogisticRegression(max_iter=1000)\n",
        "classifier.fit(X_train_resampled, y_train_resampled)\n",
        "\n",
        "# Predict and evaluate on the original test set\n",
        "y_pred = classifier.predict(X_test)\n",
        "print(classification_report(y_test, y_pred))\n"
      ],
      "metadata": {
        "colab": {
          "base_uri": "https://localhost:8080/"
        },
        "id": "0J7JXiMVDmxS",
        "outputId": "ec09861c-5c1d-4a53-e0f9-942c9be1947b"
      },
      "execution_count": 36,
      "outputs": [
        {
          "output_type": "stream",
          "name": "stdout",
          "text": [
            "              precision    recall  f1-score   support\n",
            "\n",
            "           0       0.78      0.69      0.73       259\n",
            "           1       0.58      0.68      0.63       160\n",
            "\n",
            "    accuracy                           0.69       419\n",
            "   macro avg       0.68      0.69      0.68       419\n",
            "weighted avg       0.70      0.69      0.69       419\n",
            "\n"
          ]
        }
      ]
    },
    {
      "cell_type": "markdown",
      "source": [
        "## Random forrest\n",
        "\n"
      ],
      "metadata": {
        "id": "xYikaDq6FAxe"
      }
    },
    {
      "cell_type": "code",
      "source": [
        "from sklearn.ensemble import RandomForestClassifier\n",
        "\n",
        "rf_model = RandomForestClassifier(n_estimators=100, random_state=42)\n",
        "rf_model.fit(X_train_resampled, y_train_resampled)\n",
        "\n",
        "y_pred_rf = rf_model.predict(X_test)\n",
        "print(\"Random Forest:\\n\", classification_report(y_test, y_pred_rf))\n"
      ],
      "metadata": {
        "colab": {
          "base_uri": "https://localhost:8080/"
        },
        "id": "nXOAy3zaD5fN",
        "outputId": "18ece2c5-6ae9-4173-f5dd-d4256278f5c1"
      },
      "execution_count": 37,
      "outputs": [
        {
          "output_type": "stream",
          "name": "stdout",
          "text": [
            "Random Forest:\n",
            "               precision    recall  f1-score   support\n",
            "\n",
            "           0       0.75      0.82      0.78       259\n",
            "           1       0.66      0.56      0.60       160\n",
            "\n",
            "    accuracy                           0.72       419\n",
            "   macro avg       0.70      0.69      0.69       419\n",
            "weighted avg       0.72      0.72      0.72       419\n",
            "\n"
          ]
        }
      ]
    },
    {
      "cell_type": "markdown",
      "source": [
        "## Naive Bayes"
      ],
      "metadata": {
        "id": "6VBb77r7FYTd"
      }
    },
    {
      "cell_type": "code",
      "source": [
        "from sklearn.naive_bayes import MultinomialNB\n",
        "\n",
        "nb_model = MultinomialNB()\n",
        "nb_model.fit(X_train_resampled, y_train_resampled)\n",
        "\n",
        "y_pred_nb = nb_model.predict(X_test)\n",
        "print(\"Naive Bayes:\\n\", classification_report(y_test, y_pred_nb))\n"
      ],
      "metadata": {
        "colab": {
          "base_uri": "https://localhost:8080/"
        },
        "id": "lSrdvwgPFGpS",
        "outputId": "7b4b6b4a-7eaf-492a-ad96-97260acf53f1"
      },
      "execution_count": 38,
      "outputs": [
        {
          "output_type": "stream",
          "name": "stdout",
          "text": [
            "Naive Bayes:\n",
            "               precision    recall  f1-score   support\n",
            "\n",
            "           0       0.79      0.58      0.67       259\n",
            "           1       0.52      0.75      0.62       160\n",
            "\n",
            "    accuracy                           0.64       419\n",
            "   macro avg       0.66      0.66      0.64       419\n",
            "weighted avg       0.69      0.64      0.65       419\n",
            "\n"
          ]
        }
      ]
    },
    {
      "cell_type": "markdown",
      "source": [
        "## Support Vector Machine (SVM)"
      ],
      "metadata": {
        "id": "eZsCHuIiFfwV"
      }
    },
    {
      "cell_type": "code",
      "source": [
        "from sklearn.svm import LinearSVC\n",
        "\n",
        "svm_model = LinearSVC()\n",
        "svm_model.fit(X_train_resampled, y_train_resampled)\n",
        "\n",
        "y_pred_svm = svm_model.predict(X_test)\n",
        "print(\"SVM:\\n\", classification_report(y_test, y_pred_svm))\n"
      ],
      "metadata": {
        "colab": {
          "base_uri": "https://localhost:8080/"
        },
        "id": "GJ7xupeMFb0d",
        "outputId": "99acd1f8-9cc1-4fc6-969f-f64f3e3f8a33"
      },
      "execution_count": 39,
      "outputs": [
        {
          "output_type": "stream",
          "name": "stdout",
          "text": [
            "SVM:\n",
            "               precision    recall  f1-score   support\n",
            "\n",
            "           0       0.80      0.71      0.75       259\n",
            "           1       0.60      0.71      0.65       160\n",
            "\n",
            "    accuracy                           0.71       419\n",
            "   macro avg       0.70      0.71      0.70       419\n",
            "weighted avg       0.72      0.71      0.71       419\n",
            "\n"
          ]
        }
      ]
    },
    {
      "cell_type": "markdown",
      "source": [
        "## Gradient Boosting"
      ],
      "metadata": {
        "id": "63IetJPwFl3c"
      }
    },
    {
      "cell_type": "code",
      "source": [
        "%pip install xgboost\n"
      ],
      "metadata": {
        "colab": {
          "base_uri": "https://localhost:8080/"
        },
        "id": "E7MNIzknFiXX",
        "outputId": "be289279-8944-426a-8505-3ecbb7b2d684"
      },
      "execution_count": 40,
      "outputs": [
        {
          "output_type": "stream",
          "name": "stdout",
          "text": [
            "Requirement already satisfied: xgboost in /usr/local/lib/python3.11/dist-packages (2.1.4)\n",
            "Requirement already satisfied: numpy in /usr/local/lib/python3.11/dist-packages (from xgboost) (2.0.2)\n",
            "Requirement already satisfied: nvidia-nccl-cu12 in /usr/local/lib/python3.11/dist-packages (from xgboost) (2.21.5)\n",
            "Requirement already satisfied: scipy in /usr/local/lib/python3.11/dist-packages (from xgboost) (1.15.3)\n"
          ]
        }
      ]
    },
    {
      "cell_type": "code",
      "source": [
        "from xgboost import XGBClassifier\n",
        "\n",
        "xgb_model = XGBClassifier(use_label_encoder=False, eval_metric='logloss', random_state=42)\n",
        "xgb_model.fit(X_train_resampled, y_train_resampled)\n",
        "\n",
        "y_pred_xgb = xgb_model.predict(X_test)\n",
        "print(\"XGBoost:\\n\", classification_report(y_test, y_pred_xgb))\n"
      ],
      "metadata": {
        "colab": {
          "base_uri": "https://localhost:8080/"
        },
        "id": "pEi3Y5XNFw7b",
        "outputId": "47496e78-02fb-4297-ab54-c2321371615a"
      },
      "execution_count": 41,
      "outputs": [
        {
          "output_type": "stream",
          "name": "stderr",
          "text": [
            "/usr/local/lib/python3.11/dist-packages/xgboost/core.py:158: UserWarning: [19:41:48] WARNING: /workspace/src/learner.cc:740: \n",
            "Parameters: { \"use_label_encoder\" } are not used.\n",
            "\n",
            "  warnings.warn(smsg, UserWarning)\n"
          ]
        },
        {
          "output_type": "stream",
          "name": "stdout",
          "text": [
            "XGBoost:\n",
            "               precision    recall  f1-score   support\n",
            "\n",
            "           0       0.76      0.76      0.76       259\n",
            "           1       0.61      0.61      0.61       160\n",
            "\n",
            "    accuracy                           0.70       419\n",
            "   macro avg       0.68      0.68      0.68       419\n",
            "weighted avg       0.70      0.70      0.70       419\n",
            "\n"
          ]
        }
      ]
    },
    {
      "cell_type": "markdown",
      "source": [
        "## Hyperparameter Tuning with GridSearchCV"
      ],
      "metadata": {
        "id": "Rj2Hxe4FGlXz"
      }
    },
    {
      "cell_type": "markdown",
      "source": [
        "#### 1. Random Forest Tuning\n",
        "\n"
      ],
      "metadata": {
        "id": "gRa8QMn0Gp5K"
      }
    },
    {
      "cell_type": "code",
      "source": [
        "from sklearn.model_selection import GridSearchCV\n",
        "from sklearn.ensemble import RandomForestClassifier\n",
        "\n",
        "param_grid_rf = {\n",
        "    'n_estimators': [100, 300],\n",
        "    'max_depth': [None, 10, 20],\n",
        "    'min_samples_split': [2, 5],\n",
        "    'min_samples_leaf': [1, 2]\n",
        "}\n",
        "\n",
        "rf = RandomForestClassifier(random_state=42)\n",
        "\n",
        "grid_rf = GridSearchCV(estimator=rf, param_grid=param_grid_rf,\n",
        "                       cv=3, scoring='f1_weighted', n_jobs=-1, verbose=1)\n",
        "\n",
        "grid_rf.fit(X_train_resampled, y_train_resampled)\n",
        "\n",
        "print(\"Best RF Params:\", grid_rf.best_params_)\n",
        "\n",
        "# Evaluate best model\n",
        "best_rf = grid_rf.best_estimator_\n",
        "y_pred_rf = best_rf.predict(X_test)\n",
        "print(\"Tuned Random Forest:\\n\", classification_report(y_test, y_pred_rf))\n"
      ],
      "metadata": {
        "colab": {
          "base_uri": "https://localhost:8080/"
        },
        "id": "es5frtHWF1BU",
        "outputId": "5ddcdf0d-65cd-4238-c235-64f9fae04fbc"
      },
      "execution_count": 42,
      "outputs": [
        {
          "output_type": "stream",
          "name": "stdout",
          "text": [
            "Fitting 3 folds for each of 24 candidates, totalling 72 fits\n",
            "Best RF Params: {'max_depth': None, 'min_samples_leaf': 1, 'min_samples_split': 2, 'n_estimators': 300}\n",
            "Tuned Random Forest:\n",
            "               precision    recall  f1-score   support\n",
            "\n",
            "           0       0.74      0.82      0.78       259\n",
            "           1       0.65      0.53      0.58       160\n",
            "\n",
            "    accuracy                           0.71       419\n",
            "   macro avg       0.69      0.68      0.68       419\n",
            "weighted avg       0.70      0.71      0.70       419\n",
            "\n"
          ]
        }
      ]
    },
    {
      "cell_type": "markdown",
      "source": [
        "#### 2.  XGBoost Tuning"
      ],
      "metadata": {
        "id": "3H0-jh-sG385"
      }
    },
    {
      "cell_type": "code",
      "source": [
        "from xgboost import XGBClassifier\n",
        "\n",
        "param_grid_xgb = {\n",
        "    'n_estimators': [100, 300],\n",
        "    'max_depth': [3, 6, 10],\n",
        "    'learning_rate': [0.01, 0.1, 0.3],\n",
        "    'subsample': [0.8, 1.0]\n",
        "}\n",
        "\n",
        "xgb = XGBClassifier(use_label_encoder=False, eval_metric='logloss', random_state=42)\n",
        "\n",
        "grid_xgb = GridSearchCV(estimator=xgb, param_grid=param_grid_xgb,\n",
        "                        cv=3, scoring='f1_weighted', n_jobs=-1, verbose=1)\n",
        "\n",
        "grid_xgb.fit(X_train_resampled, y_train_resampled)\n",
        "\n",
        "print(\"Best XGB Params:\", grid_xgb.best_params_)\n",
        "\n",
        "# Evaluate best model\n",
        "best_xgb = grid_xgb.best_estimator_\n",
        "y_pred_xgb = best_xgb.predict(X_test)\n",
        "print(\"Tuned XGBoost:\\n\", classification_report(y_test, y_pred_xgb))\n"
      ],
      "metadata": {
        "colab": {
          "base_uri": "https://localhost:8080/",
          "height": 408
        },
        "id": "WkVeOif7GwGh",
        "outputId": "8231f959-c43d-4aee-9134-709846b69d93"
      },
      "execution_count": 43,
      "outputs": [
        {
          "output_type": "stream",
          "name": "stdout",
          "text": [
            "Fitting 3 folds for each of 36 candidates, totalling 108 fits\n"
          ]
        },
        {
          "output_type": "error",
          "ename": "KeyboardInterrupt",
          "evalue": "",
          "traceback": [
            "\u001b[0;31m---------------------------------------------------------------------------\u001b[0m",
            "\u001b[0;31mKeyboardInterrupt\u001b[0m                         Traceback (most recent call last)",
            "\u001b[0;32m<ipython-input-43-f3fbe796a48a>\u001b[0m in \u001b[0;36m<cell line: 0>\u001b[0;34m()\u001b[0m\n\u001b[1;32m     13\u001b[0m                         cv=3, scoring='f1_weighted', n_jobs=-1, verbose=1)\n\u001b[1;32m     14\u001b[0m \u001b[0;34m\u001b[0m\u001b[0m\n\u001b[0;32m---> 15\u001b[0;31m \u001b[0mgrid_xgb\u001b[0m\u001b[0;34m.\u001b[0m\u001b[0mfit\u001b[0m\u001b[0;34m(\u001b[0m\u001b[0mX_train_resampled\u001b[0m\u001b[0;34m,\u001b[0m \u001b[0my_train_resampled\u001b[0m\u001b[0;34m)\u001b[0m\u001b[0;34m\u001b[0m\u001b[0;34m\u001b[0m\u001b[0m\n\u001b[0m\u001b[1;32m     16\u001b[0m \u001b[0;34m\u001b[0m\u001b[0m\n\u001b[1;32m     17\u001b[0m \u001b[0mprint\u001b[0m\u001b[0;34m(\u001b[0m\u001b[0;34m\"Best XGB Params:\"\u001b[0m\u001b[0;34m,\u001b[0m \u001b[0mgrid_xgb\u001b[0m\u001b[0;34m.\u001b[0m\u001b[0mbest_params_\u001b[0m\u001b[0;34m)\u001b[0m\u001b[0;34m\u001b[0m\u001b[0;34m\u001b[0m\u001b[0m\n",
            "\u001b[0;32m/usr/local/lib/python3.11/dist-packages/sklearn/base.py\u001b[0m in \u001b[0;36mwrapper\u001b[0;34m(estimator, *args, **kwargs)\u001b[0m\n\u001b[1;32m   1387\u001b[0m                 )\n\u001b[1;32m   1388\u001b[0m             ):\n\u001b[0;32m-> 1389\u001b[0;31m                 \u001b[0;32mreturn\u001b[0m \u001b[0mfit_method\u001b[0m\u001b[0;34m(\u001b[0m\u001b[0mestimator\u001b[0m\u001b[0;34m,\u001b[0m \u001b[0;34m*\u001b[0m\u001b[0margs\u001b[0m\u001b[0;34m,\u001b[0m \u001b[0;34m**\u001b[0m\u001b[0mkwargs\u001b[0m\u001b[0;34m)\u001b[0m\u001b[0;34m\u001b[0m\u001b[0;34m\u001b[0m\u001b[0m\n\u001b[0m\u001b[1;32m   1390\u001b[0m \u001b[0;34m\u001b[0m\u001b[0m\n\u001b[1;32m   1391\u001b[0m         \u001b[0;32mreturn\u001b[0m \u001b[0mwrapper\u001b[0m\u001b[0;34m\u001b[0m\u001b[0;34m\u001b[0m\u001b[0m\n",
            "\u001b[0;32m/usr/local/lib/python3.11/dist-packages/sklearn/model_selection/_search.py\u001b[0m in \u001b[0;36mfit\u001b[0;34m(self, X, y, **params)\u001b[0m\n\u001b[1;32m   1022\u001b[0m                 \u001b[0;32mreturn\u001b[0m \u001b[0mresults\u001b[0m\u001b[0;34m\u001b[0m\u001b[0;34m\u001b[0m\u001b[0m\n\u001b[1;32m   1023\u001b[0m \u001b[0;34m\u001b[0m\u001b[0m\n\u001b[0;32m-> 1024\u001b[0;31m             \u001b[0mself\u001b[0m\u001b[0;34m.\u001b[0m\u001b[0m_run_search\u001b[0m\u001b[0;34m(\u001b[0m\u001b[0mevaluate_candidates\u001b[0m\u001b[0;34m)\u001b[0m\u001b[0;34m\u001b[0m\u001b[0;34m\u001b[0m\u001b[0m\n\u001b[0m\u001b[1;32m   1025\u001b[0m \u001b[0;34m\u001b[0m\u001b[0m\n\u001b[1;32m   1026\u001b[0m             \u001b[0;31m# multimetric is determined here because in the case of a callable\u001b[0m\u001b[0;34m\u001b[0m\u001b[0;34m\u001b[0m\u001b[0m\n",
            "\u001b[0;32m/usr/local/lib/python3.11/dist-packages/sklearn/model_selection/_search.py\u001b[0m in \u001b[0;36m_run_search\u001b[0;34m(self, evaluate_candidates)\u001b[0m\n\u001b[1;32m   1569\u001b[0m     \u001b[0;32mdef\u001b[0m \u001b[0m_run_search\u001b[0m\u001b[0;34m(\u001b[0m\u001b[0mself\u001b[0m\u001b[0;34m,\u001b[0m \u001b[0mevaluate_candidates\u001b[0m\u001b[0;34m)\u001b[0m\u001b[0;34m:\u001b[0m\u001b[0;34m\u001b[0m\u001b[0;34m\u001b[0m\u001b[0m\n\u001b[1;32m   1570\u001b[0m         \u001b[0;34m\"\"\"Search all candidates in param_grid\"\"\"\u001b[0m\u001b[0;34m\u001b[0m\u001b[0;34m\u001b[0m\u001b[0m\n\u001b[0;32m-> 1571\u001b[0;31m         \u001b[0mevaluate_candidates\u001b[0m\u001b[0;34m(\u001b[0m\u001b[0mParameterGrid\u001b[0m\u001b[0;34m(\u001b[0m\u001b[0mself\u001b[0m\u001b[0;34m.\u001b[0m\u001b[0mparam_grid\u001b[0m\u001b[0;34m)\u001b[0m\u001b[0;34m)\u001b[0m\u001b[0;34m\u001b[0m\u001b[0;34m\u001b[0m\u001b[0m\n\u001b[0m\u001b[1;32m   1572\u001b[0m \u001b[0;34m\u001b[0m\u001b[0m\n\u001b[1;32m   1573\u001b[0m \u001b[0;34m\u001b[0m\u001b[0m\n",
            "\u001b[0;32m/usr/local/lib/python3.11/dist-packages/sklearn/model_selection/_search.py\u001b[0m in \u001b[0;36mevaluate_candidates\u001b[0;34m(candidate_params, cv, more_results)\u001b[0m\n\u001b[1;32m    968\u001b[0m                     )\n\u001b[1;32m    969\u001b[0m \u001b[0;34m\u001b[0m\u001b[0m\n\u001b[0;32m--> 970\u001b[0;31m                 out = parallel(\n\u001b[0m\u001b[1;32m    971\u001b[0m                     delayed(_fit_and_score)(\n\u001b[1;32m    972\u001b[0m                         \u001b[0mclone\u001b[0m\u001b[0;34m(\u001b[0m\u001b[0mbase_estimator\u001b[0m\u001b[0;34m)\u001b[0m\u001b[0;34m,\u001b[0m\u001b[0;34m\u001b[0m\u001b[0;34m\u001b[0m\u001b[0m\n",
            "\u001b[0;32m/usr/local/lib/python3.11/dist-packages/sklearn/utils/parallel.py\u001b[0m in \u001b[0;36m__call__\u001b[0;34m(self, iterable)\u001b[0m\n\u001b[1;32m     75\u001b[0m             \u001b[0;32mfor\u001b[0m \u001b[0mdelayed_func\u001b[0m\u001b[0;34m,\u001b[0m \u001b[0margs\u001b[0m\u001b[0;34m,\u001b[0m \u001b[0mkwargs\u001b[0m \u001b[0;32min\u001b[0m \u001b[0miterable\u001b[0m\u001b[0;34m\u001b[0m\u001b[0;34m\u001b[0m\u001b[0m\n\u001b[1;32m     76\u001b[0m         )\n\u001b[0;32m---> 77\u001b[0;31m         \u001b[0;32mreturn\u001b[0m \u001b[0msuper\u001b[0m\u001b[0;34m(\u001b[0m\u001b[0;34m)\u001b[0m\u001b[0;34m.\u001b[0m\u001b[0m__call__\u001b[0m\u001b[0;34m(\u001b[0m\u001b[0miterable_with_config\u001b[0m\u001b[0;34m)\u001b[0m\u001b[0;34m\u001b[0m\u001b[0;34m\u001b[0m\u001b[0m\n\u001b[0m\u001b[1;32m     78\u001b[0m \u001b[0;34m\u001b[0m\u001b[0m\n\u001b[1;32m     79\u001b[0m \u001b[0;34m\u001b[0m\u001b[0m\n",
            "\u001b[0;32m/usr/local/lib/python3.11/dist-packages/joblib/parallel.py\u001b[0m in \u001b[0;36m__call__\u001b[0;34m(self, iterable)\u001b[0m\n\u001b[1;32m   2069\u001b[0m         \u001b[0mnext\u001b[0m\u001b[0;34m(\u001b[0m\u001b[0moutput\u001b[0m\u001b[0;34m)\u001b[0m\u001b[0;34m\u001b[0m\u001b[0;34m\u001b[0m\u001b[0m\n\u001b[1;32m   2070\u001b[0m \u001b[0;34m\u001b[0m\u001b[0m\n\u001b[0;32m-> 2071\u001b[0;31m         \u001b[0;32mreturn\u001b[0m \u001b[0moutput\u001b[0m \u001b[0;32mif\u001b[0m \u001b[0mself\u001b[0m\u001b[0;34m.\u001b[0m\u001b[0mreturn_generator\u001b[0m \u001b[0;32melse\u001b[0m \u001b[0mlist\u001b[0m\u001b[0;34m(\u001b[0m\u001b[0moutput\u001b[0m\u001b[0;34m)\u001b[0m\u001b[0;34m\u001b[0m\u001b[0;34m\u001b[0m\u001b[0m\n\u001b[0m\u001b[1;32m   2072\u001b[0m \u001b[0;34m\u001b[0m\u001b[0m\n\u001b[1;32m   2073\u001b[0m     \u001b[0;32mdef\u001b[0m \u001b[0m__repr__\u001b[0m\u001b[0;34m(\u001b[0m\u001b[0mself\u001b[0m\u001b[0;34m)\u001b[0m\u001b[0;34m:\u001b[0m\u001b[0;34m\u001b[0m\u001b[0;34m\u001b[0m\u001b[0m\n",
            "\u001b[0;32m/usr/local/lib/python3.11/dist-packages/joblib/parallel.py\u001b[0m in \u001b[0;36m_get_outputs\u001b[0;34m(self, iterator, pre_dispatch)\u001b[0m\n\u001b[1;32m   1679\u001b[0m \u001b[0;34m\u001b[0m\u001b[0m\n\u001b[1;32m   1680\u001b[0m             \u001b[0;32mwith\u001b[0m \u001b[0mself\u001b[0m\u001b[0;34m.\u001b[0m\u001b[0m_backend\u001b[0m\u001b[0;34m.\u001b[0m\u001b[0mretrieval_context\u001b[0m\u001b[0;34m(\u001b[0m\u001b[0;34m)\u001b[0m\u001b[0;34m:\u001b[0m\u001b[0;34m\u001b[0m\u001b[0;34m\u001b[0m\u001b[0m\n\u001b[0;32m-> 1681\u001b[0;31m                 \u001b[0;32myield\u001b[0m \u001b[0;32mfrom\u001b[0m \u001b[0mself\u001b[0m\u001b[0;34m.\u001b[0m\u001b[0m_retrieve\u001b[0m\u001b[0;34m(\u001b[0m\u001b[0;34m)\u001b[0m\u001b[0;34m\u001b[0m\u001b[0;34m\u001b[0m\u001b[0m\n\u001b[0m\u001b[1;32m   1682\u001b[0m \u001b[0;34m\u001b[0m\u001b[0m\n\u001b[1;32m   1683\u001b[0m         \u001b[0;32mexcept\u001b[0m \u001b[0mGeneratorExit\u001b[0m\u001b[0;34m:\u001b[0m\u001b[0;34m\u001b[0m\u001b[0;34m\u001b[0m\u001b[0m\n",
            "\u001b[0;32m/usr/local/lib/python3.11/dist-packages/joblib/parallel.py\u001b[0m in \u001b[0;36m_retrieve\u001b[0;34m(self)\u001b[0m\n\u001b[1;32m   1797\u001b[0m                     \u001b[0mself\u001b[0m\u001b[0;34m.\u001b[0m\u001b[0m_jobs\u001b[0m\u001b[0;34m[\u001b[0m\u001b[0;36m0\u001b[0m\u001b[0;34m]\u001b[0m\u001b[0;34m.\u001b[0m\u001b[0mget_status\u001b[0m\u001b[0;34m(\u001b[0m\u001b[0mtimeout\u001b[0m\u001b[0;34m=\u001b[0m\u001b[0mself\u001b[0m\u001b[0;34m.\u001b[0m\u001b[0mtimeout\u001b[0m\u001b[0;34m)\u001b[0m \u001b[0;34m==\u001b[0m \u001b[0mTASK_PENDING\u001b[0m\u001b[0;34m\u001b[0m\u001b[0;34m\u001b[0m\u001b[0m\n\u001b[1;32m   1798\u001b[0m                 ):\n\u001b[0;32m-> 1799\u001b[0;31m                     \u001b[0mtime\u001b[0m\u001b[0;34m.\u001b[0m\u001b[0msleep\u001b[0m\u001b[0;34m(\u001b[0m\u001b[0;36m0.01\u001b[0m\u001b[0;34m)\u001b[0m\u001b[0;34m\u001b[0m\u001b[0;34m\u001b[0m\u001b[0m\n\u001b[0m\u001b[1;32m   1800\u001b[0m                     \u001b[0;32mcontinue\u001b[0m\u001b[0;34m\u001b[0m\u001b[0;34m\u001b[0m\u001b[0m\n\u001b[1;32m   1801\u001b[0m \u001b[0;34m\u001b[0m\u001b[0m\n",
            "\u001b[0;31mKeyboardInterrupt\u001b[0m: "
          ]
        }
      ]
    },
    {
      "cell_type": "code",
      "source": [
        "from sklearn.model_selection import RandomizedSearchCV\n",
        "from xgboost import XGBClassifier\n",
        "from scipy.stats import uniform, randint\n",
        "\n",
        "param_dist_xgb = {\n",
        "    'n_estimators': randint(100, 400),\n",
        "    'max_depth': randint(3, 10),\n",
        "    'learning_rate': uniform(0.01, 0.3),\n",
        "    'subsample': uniform(0.7, 0.3)\n",
        "}\n",
        "\n",
        "xgb = XGBClassifier(use_label_encoder=False, eval_metric='logloss', random_state=42)\n",
        "\n",
        "random_search_xgb = RandomizedSearchCV(\n",
        "    estimator=xgb,\n",
        "    param_distributions=param_dist_xgb,\n",
        "    n_iter=20,  # Try 20 random combinations\n",
        "    cv=3,\n",
        "    scoring='f1_weighted',\n",
        "    verbose=1,\n",
        "    random_state=42,\n",
        "    n_jobs=-1\n",
        ")\n",
        "\n",
        "random_search_xgb.fit(X_train_resampled, y_train_resampled)\n",
        "print(\"Best XGB Params (Randomized Search):\", random_search_xgb.best_params_)\n",
        "\n",
        "best_xgb = random_search_xgb.best_estimator_\n",
        "y_pred_xgb = best_xgb.predict(X_test)\n",
        "print(\"Random Search XGBoost:\\n\", classification_report(y_test, y_pred_xgb))\n"
      ],
      "metadata": {
        "id": "Qqthz3wwG_UO"
      },
      "execution_count": null,
      "outputs": []
    },
    {
      "cell_type": "code",
      "source": [
        "import joblib\n",
        "\n",
        "# Save the best model (e.g., XGBoost or RandomForest)\n",
        "joblib.dump(best_xgb, 'xgb_model.pkl')\n",
        "joblib.dump(best_rf, 'rf_model.pkl')\n",
        "\n",
        "  # or 'rf_model.pkl' if using Random Forest\n",
        "\n",
        "# Save the vectorizer (TF-IDF)\n",
        "joblib.dump(vectorizer, 'tfidf_vectorizer.pkl')\n"
      ],
      "metadata": {
        "id": "h3WWp2NmMACo"
      },
      "execution_count": null,
      "outputs": []
    },
    {
      "cell_type": "code",
      "source": [
        "# Load the model\n",
        "loaded_model = joblib.load('xgb_model.pkl')\n",
        "\n",
        "# Load the vectorizer\n",
        "loaded_vectorizer = joblib.load('tfidf_vectorizer.pkl')\n",
        "\n",
        "# Example prediction\n",
        "sample_text = [\"The government just announced something shocking!\"]\n",
        "sample_vectorized = loaded_vectorizer.transform(sample_text)\n",
        "prediction = loaded_model.predict(sample_vectorized)\n",
        "\n",
        "print(\"Prediction:\", \"Fake\" if prediction[0] == 0 else \"Real\")\n"
      ],
      "metadata": {
        "id": "qseGXAF8QCYZ"
      },
      "execution_count": null,
      "outputs": []
    }
  ],
  "metadata": {
    "colab": {
      "provenance": [],
      "gpuType": "T4",
      "include_colab_link": true
    },
    "kernelspec": {
      "display_name": "Python 3",
      "name": "python3"
    },
    "language_info": {
      "codemirror_mode": {
        "name": "ipython",
        "version": 3
      },
      "file_extension": ".py",
      "mimetype": "text/x-python",
      "name": "python",
      "nbconvert_exporter": "python",
      "pygments_lexer": "ipython3",
      "version": "3.7.4"
    },
    "accelerator": "GPU"
  },
  "nbformat": 4,
  "nbformat_minor": 0
}